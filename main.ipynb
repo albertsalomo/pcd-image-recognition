{
 "cells": [
  {
   "cell_type": "markdown",
   "metadata": {},
   "source": [
    "# Pendeteksi penyakit paru-paru menggunakan Deep-Multi-Layered CNN"
   ]
  },
  {
   "cell_type": "markdown",
   "metadata": {},
   "source": [
    "#### Dataset"
   ]
  },
  {
   "cell_type": "markdown",
   "metadata": {},
   "source": [
    "(Google Drive)\n",
    "> https://drive.google.com/drive/folders/1oAJUw2UChrYMqUwLB8F-4RuX19WoeqsN?usp=sharing\n",
    "\n",
    "(covid-chestxray-dataset)\n",
    "> https://github.com/ieee8023/covid-chestxray-dataset\n",
    "\n",
    "\n",
    "(Actualmed-COVID-chestxray-dataset)\n",
    "> https://github.com/agchung/Actualmed-COVID-chestxray-dataset\n",
    "\n",
    "(Kaggle Chest X-Ray Images (Pneumonia))\n",
    "> https://www.kaggle.com/paultimothymooney/chest-xray-pneumonia"
   ]
  },
  {
   "cell_type": "markdown",
   "metadata": {},
   "source": [
    "##### Penggunaan Library "
   ]
  },
  {
   "cell_type": "markdown",
   "metadata": {},
   "source": [
    "###### Library yang digunakan pada project ini sebagai berikut:\n",
    "###### 1. tensorflow : untuk penggunaan deep learning\n",
    "###### 2. glob : untuk penggunaan array\n",
    "###### 3. numpy : untuk membuat objek kelas array tunggal dan multidimensi\n",
    "###### 4. pandas : untuk mengatur tata letak data supaya mudah dicari\n",
    "###### 5. tqdm : untuk menampilkan progress bar dengan perulangan yang sederhana\n",
    "###### 6. opencv : untuk preprocessing data gambar \n",
    "###### 7. matplotlib : untuk visualisasi data\n",
    "###### 8. scikitlearn-labelEncoder : untuk pre-processing dalam penamaan label setiap data\n",
    "###### 9. scikitlearn-train_test_split : untuk pre-processing dalam pembagian data training dan testing\n",
    "###### 10. keras : untuk penggunaan model deep learning"
   ]
  },
  {
   "cell_type": "code",
   "execution_count": 2,
   "metadata": {},
   "outputs": [],
   "source": [
    "## Library that we used\n",
    "import tensorflow as tf\n",
    "import glob \n",
    "import numpy as np\n",
    "import pandas as pd\n",
    "import os\n",
    "from tqdm import tqdm\n",
    "import cv2\n",
    "import matplotlib.pyplot as plt\n",
    "from sklearn.preprocessing import LabelEncoder\n",
    "from keras.layers import BatchNormalization, Flatten, Input, concatenate\n",
    "from keras.layers.convolutional import Conv2D, MaxPooling2D, AveragePooling2D\n",
    "from keras.models import load_model\n",
    "from keras.layers.core import Activation, Dense, Dropout\n",
    "from sklearn.model_selection import train_test_split\n",
    "from sklearn.metrics import classification_report\n",
    "from keras.models import Model\n",
    "from joblib import dump\n",
    "import seaborn as sns\n",
    "le = LabelEncoder()"
   ]
  },
  {
   "cell_type": "markdown",
   "metadata": {},
   "source": [
    "##### Directory local dataset"
   ]
  },
  {
   "cell_type": "code",
   "execution_count": null,
   "metadata": {},
   "outputs": [],
   "source": [
    "# Actumed Dir Local Jessica\n",
    "path = \"F:\\Backup Data\\KULIAH KELAS\\SEMESTER 6\\9. Pengolahan Citra\\Project Akhir\\Actualmed-COVID-chestxray-dataset-master-20220416T062843Z-001\\Actualmed-COVID-chestxray-dataset-master\"\n",
    "\n",
    "# Kaggle Dir Local Jessica\n",
    "path2 = \"F:\\Backup Data\\KULIAH KELAS\\SEMESTER 6\\9. Pengolahan Citra\\Project Akhir\\kaggle-20220416T062842Z-001\\kaggle\"\n",
    "\n",
    "# Kaggle Covid Dir Jessica\n",
    "path3 = \"F:\\Backup Data\\KULIAH KELAS\\SEMESTER 6\\9. Pengolahan Citra\\Project Akhir\\Kaggle Radiography\""
   ]
  },
  {
   "cell_type": "code",
   "execution_count": 3,
   "metadata": {},
   "outputs": [],
   "source": [
    "# Actuamed Dir Local ALbert\n",
    "path = \"C:\\\\Users\\\\alber\\\\Desktop\\\\Semester 6\\\\Pengolahan Citra Digital\\\\Python\\Actualmed-COVID-chestxray-dataset-master\"\n",
    "\n",
    "# Kaggle (Normal and Pneumonia) Dir Albert\n",
    "path2 = \"C:\\\\Users\\\\alber\\\\Desktop\\\\Semester 6\\\\Pengolahan Citra Digital\\\\Python\\kaggle\"\n",
    "\n",
    "# Kaggle (Covid and Normal) Dir Albert\n",
    "path3 = \"C:\\\\Users\\\\alber\\\\Desktop\\\\Semester 6\\\\Pengolahan Citra Digital\\\\Python\\\\Kaggle Radiography\""
   ]
  },
  {
   "cell_type": "markdown",
   "metadata": {},
   "source": [
    "#### Pemberian label "
   ]
  },
  {
   "cell_type": "markdown",
   "metadata": {},
   "source": [
    "###### Label pada data kaggle untuk Normal dan Pneumonia"
   ]
  },
  {
   "cell_type": "code",
   "execution_count": 6,
   "metadata": {},
   "outputs": [
    {
     "data": {
      "text/plain": [
       "{'NORMAL': 1, 'PNEUMONIA': 2}"
      ]
     },
     "execution_count": 6,
     "metadata": {},
     "output_type": "execute_result"
    }
   ],
   "source": [
    "## Label for Kaggle (Normal and Pneumonia) Dataset\n",
    "class_label_kaggle = [\"NORMAL\",\"PNEUMONIA\"]\n",
    "class_names_label = {class_label_kaggle:i for i, class_label_kaggle in enumerate(class_label_kaggle)}\n",
    "# class_labelname_kaggle = le.transform(class_label_kaggle)\n",
    "\n",
    "if(class_names_label[\"NORMAL\"]!=1 and class_names_label[\"PNEUMONIA\"]!=2):\n",
    "    class_names_label[\"NORMAL\"] = 1\n",
    "    class_names_label[\"PNEUMONIA\"] = 2\n",
    "\n",
    "class_names_label"
   ]
  },
  {
   "cell_type": "markdown",
   "metadata": {},
   "source": [
    "###### Label pada data kaggle untuk COVID dan Normal"
   ]
  },
  {
   "cell_type": "code",
   "execution_count": 8,
   "metadata": {},
   "outputs": [],
   "source": [
    "def labelling_kaggle(class_names_label,path,dataset_image,dataset_label,size):\n",
    "    print(\"Loading {}\".format(path))\n",
    "    for folder in os.listdir(path):\n",
    "        label = class_names_label[folder]\n",
    "        print(folder)\n",
    "        for file in tqdm(os.listdir(os.path.join(path, folder))):\n",
    "            img_path = os.path.join(os.path.join(path, folder), file)\n",
    "            image = cv2.imread(img_path)\n",
    "            image = cv2.cvtColor(image, cv2.COLOR_BGR2RGB)\n",
    "            image = cv2.resize(image, (size, size))\n",
    "            dataset_image.append(image)\n",
    "            dataset_label.append(label)\n",
    "    dataset_image = np.array(dataset_image, dtype = 'float32')\n",
    "    dataset_label = np.array(dataset_label, dtype = 'int32')"
   ]
  },
  {
   "cell_type": "code",
   "execution_count": 9,
   "metadata": {},
   "outputs": [
    {
     "name": "stdout",
     "output_type": "stream",
     "text": [
      "Loading C:\\Users\\alber\\Desktop\\Semester 6\\Pengolahan Citra Digital\\Python\\kaggle\n",
      "NORMAL\n"
     ]
    },
    {
     "name": "stderr",
     "output_type": "stream",
     "text": [
      "100%|██████████| 1583/1583 [01:58<00:00, 13.33it/s]\n"
     ]
    },
    {
     "name": "stdout",
     "output_type": "stream",
     "text": [
      "PNEUMONIA\n"
     ]
    },
    {
     "name": "stderr",
     "output_type": "stream",
     "text": [
      "100%|██████████| 4273/4273 [02:29<00:00, 28.54it/s]\n"
     ]
    }
   ],
   "source": [
    "images1 = []\n",
    "labels1 = []\n",
    "labelling_kaggle(class_names_label,path2,images1,labels1,128)"
   ]
  },
  {
   "cell_type": "code",
   "execution_count": 10,
   "metadata": {},
   "outputs": [
    {
     "data": {
      "text/plain": [
       "['NORMAL', 'PNEUMONIA']"
      ]
     },
     "execution_count": 10,
     "metadata": {},
     "output_type": "execute_result"
    }
   ],
   "source": [
    "os.listdir(path2)"
   ]
  },
  {
   "cell_type": "code",
   "execution_count": 11,
   "metadata": {},
   "outputs": [],
   "source": [
    "## Label for Kaggle Radiography Dataset\n",
    "class_label_kaggle_radiography = [\"COVID\", \"NORMAL\"]\n",
    "le.fit(class_label_kaggle_radiography)\n",
    "class_names_label_kaggle_radiography = {class_label_kaggle_radiography:i for i, class_label_kaggle_radiography in enumerate(class_label_kaggle_radiography)}\n",
    "\n",
    "if(class_names_label_kaggle_radiography[\"COVID\"]!=0 and class_names_label_kaggle_radiography[\"NORMAL\"]!=1):\n",
    "    class_names_label_kaggle_radiography[\"COVID\"] = 0\n",
    "    class_names_label_kaggle_radiography[\"NORMAL\"] = 1"
   ]
  },
  {
   "cell_type": "code",
   "execution_count": 12,
   "metadata": {},
   "outputs": [
    {
     "name": "stdout",
     "output_type": "stream",
     "text": [
      "Loading C:\\Users\\alber\\Desktop\\Semester 6\\Pengolahan Citra Digital\\Python\\Kaggle Radiography\n",
      "COVID\n"
     ]
    },
    {
     "name": "stderr",
     "output_type": "stream",
     "text": [
      "100%|██████████| 3616/3616 [00:28<00:00, 125.07it/s]\n"
     ]
    },
    {
     "name": "stdout",
     "output_type": "stream",
     "text": [
      "NORMAL\n"
     ]
    },
    {
     "name": "stderr",
     "output_type": "stream",
     "text": [
      "100%|██████████| 2616/2616 [00:14<00:00, 181.58it/s]\n"
     ]
    }
   ],
   "source": [
    "# Making label for kaggle radiography dataset\n",
    "images2 = []\n",
    "labels2 = []\n",
    "labelling_kaggle(class_names_label_kaggle_radiography,path3,images2,labels2,128)"
   ]
  },
  {
   "cell_type": "code",
   "execution_count": 13,
   "metadata": {},
   "outputs": [
    {
     "data": {
      "text/plain": [
       "{'COVID': 0, 'NORMAL': 1}"
      ]
     },
     "execution_count": 13,
     "metadata": {},
     "output_type": "execute_result"
    }
   ],
   "source": [
    "class_names_label_kaggle_radiography"
   ]
  },
  {
   "cell_type": "code",
   "execution_count": 14,
   "metadata": {},
   "outputs": [
    {
     "data": {
      "text/plain": [
       "['COVID', 'NORMAL']"
      ]
     },
     "execution_count": 14,
     "metadata": {},
     "output_type": "execute_result"
    }
   ],
   "source": [
    "os.listdir(path3)"
   ]
  },
  {
   "cell_type": "code",
   "execution_count": 15,
   "metadata": {},
   "outputs": [],
   "source": [
    "# Actuamed Dataset\n",
    "source = np.asarray(pd.read_csv(path + '\\\\metadata.csv'))"
   ]
  },
  {
   "cell_type": "code",
   "execution_count": 16,
   "metadata": {},
   "outputs": [
    {
     "data": {
      "text/html": [
       "<div>\n",
       "<style scoped>\n",
       "    .dataframe tbody tr th:only-of-type {\n",
       "        vertical-align: middle;\n",
       "    }\n",
       "\n",
       "    .dataframe tbody tr th {\n",
       "        vertical-align: top;\n",
       "    }\n",
       "\n",
       "    .dataframe thead th {\n",
       "        text-align: right;\n",
       "    }\n",
       "</style>\n",
       "<table border=\"1\" class=\"dataframe\">\n",
       "  <thead>\n",
       "    <tr style=\"text-align: right;\">\n",
       "      <th></th>\n",
       "      <th>patientid</th>\n",
       "      <th>offset</th>\n",
       "      <th>sex</th>\n",
       "      <th>age</th>\n",
       "      <th>finding</th>\n",
       "      <th>survival</th>\n",
       "      <th>temperature</th>\n",
       "      <th>pO2 saturation</th>\n",
       "      <th>view</th>\n",
       "      <th>modality</th>\n",
       "      <th>imagename</th>\n",
       "      <th>artifacts distortion</th>\n",
       "      <th>notes</th>\n",
       "    </tr>\n",
       "  </thead>\n",
       "  <tbody>\n",
       "    <tr>\n",
       "      <th>0</th>\n",
       "      <td>ANON196</td>\n",
       "      <td>NaN</td>\n",
       "      <td>NaN</td>\n",
       "      <td>NaN</td>\n",
       "      <td>NaN</td>\n",
       "      <td>NaN</td>\n",
       "      <td>NaN</td>\n",
       "      <td>NaN</td>\n",
       "      <td>PA</td>\n",
       "      <td>X-ray</td>\n",
       "      <td>CR.1.2.840.113564.1722810170.20200313090023421...</td>\n",
       "      <td>NaN</td>\n",
       "      <td>Inconclusive, date taken (YYYYMMDD): 20200313</td>\n",
       "    </tr>\n",
       "    <tr>\n",
       "      <th>1</th>\n",
       "      <td>ANON196</td>\n",
       "      <td>NaN</td>\n",
       "      <td>NaN</td>\n",
       "      <td>NaN</td>\n",
       "      <td>NaN</td>\n",
       "      <td>NaN</td>\n",
       "      <td>NaN</td>\n",
       "      <td>NaN</td>\n",
       "      <td>PA</td>\n",
       "      <td>X-ray</td>\n",
       "      <td>CR.1.2.840.113564.1722810170.20200313100318375...</td>\n",
       "      <td>NaN</td>\n",
       "      <td>Inconclusive, date taken (YYYYMMDD): 20200313</td>\n",
       "    </tr>\n",
       "    <tr>\n",
       "      <th>2</th>\n",
       "      <td>ANON56</td>\n",
       "      <td>NaN</td>\n",
       "      <td>NaN</td>\n",
       "      <td>NaN</td>\n",
       "      <td>No finding</td>\n",
       "      <td>NaN</td>\n",
       "      <td>NaN</td>\n",
       "      <td>NaN</td>\n",
       "      <td>PA</td>\n",
       "      <td>X-ray</td>\n",
       "      <td>CR.1.2.840.113564.1722810170.20200317090830828...</td>\n",
       "      <td>NaN</td>\n",
       "      <td>Negative (covid-19 viral infection is excluded...</td>\n",
       "    </tr>\n",
       "    <tr>\n",
       "      <th>3</th>\n",
       "      <td>ANON56</td>\n",
       "      <td>NaN</td>\n",
       "      <td>NaN</td>\n",
       "      <td>NaN</td>\n",
       "      <td>No finding</td>\n",
       "      <td>NaN</td>\n",
       "      <td>NaN</td>\n",
       "      <td>NaN</td>\n",
       "      <td>PA</td>\n",
       "      <td>X-ray</td>\n",
       "      <td>CR.1.2.840.113564.1722810170.20200317104341875...</td>\n",
       "      <td>NaN</td>\n",
       "      <td>Negative (covid-19 viral infection is excluded...</td>\n",
       "    </tr>\n",
       "    <tr>\n",
       "      <th>4</th>\n",
       "      <td>ANON196</td>\n",
       "      <td>NaN</td>\n",
       "      <td>NaN</td>\n",
       "      <td>NaN</td>\n",
       "      <td>COVID-19</td>\n",
       "      <td>NaN</td>\n",
       "      <td>NaN</td>\n",
       "      <td>NaN</td>\n",
       "      <td>PA</td>\n",
       "      <td>X-ray</td>\n",
       "      <td>CR.1.2.840.113564.1722810170.20200318082923328...</td>\n",
       "      <td>NaN</td>\n",
       "      <td>, date taken (YYYYMMDD): 20200318</td>\n",
       "    </tr>\n",
       "    <tr>\n",
       "      <th>...</th>\n",
       "      <td>...</td>\n",
       "      <td>...</td>\n",
       "      <td>...</td>\n",
       "      <td>...</td>\n",
       "      <td>...</td>\n",
       "      <td>...</td>\n",
       "      <td>...</td>\n",
       "      <td>...</td>\n",
       "      <td>...</td>\n",
       "      <td>...</td>\n",
       "      <td>...</td>\n",
       "      <td>...</td>\n",
       "      <td>...</td>\n",
       "    </tr>\n",
       "    <tr>\n",
       "      <th>233</th>\n",
       "      <td>ANON33</td>\n",
       "      <td>NaN</td>\n",
       "      <td>NaN</td>\n",
       "      <td>NaN</td>\n",
       "      <td>No finding</td>\n",
       "      <td>NaN</td>\n",
       "      <td>NaN</td>\n",
       "      <td>NaN</td>\n",
       "      <td>PA</td>\n",
       "      <td>X-ray</td>\n",
       "      <td>DX.1.2.840.113564.1722810162.20200420155936364...</td>\n",
       "      <td>NaN</td>\n",
       "      <td>Negative (covid-19 viral infection is excluded...</td>\n",
       "    </tr>\n",
       "    <tr>\n",
       "      <th>234</th>\n",
       "      <td>ANON41</td>\n",
       "      <td>NaN</td>\n",
       "      <td>NaN</td>\n",
       "      <td>NaN</td>\n",
       "      <td>No finding</td>\n",
       "      <td>NaN</td>\n",
       "      <td>NaN</td>\n",
       "      <td>NaN</td>\n",
       "      <td>PA</td>\n",
       "      <td>X-ray</td>\n",
       "      <td>DX.1.2.840.113564.1722810162.20200420164750991...</td>\n",
       "      <td>NaN</td>\n",
       "      <td>Negative (covid-19 viral infection is excluded...</td>\n",
       "    </tr>\n",
       "    <tr>\n",
       "      <th>235</th>\n",
       "      <td>ANON93</td>\n",
       "      <td>NaN</td>\n",
       "      <td>NaN</td>\n",
       "      <td>NaN</td>\n",
       "      <td>No finding</td>\n",
       "      <td>NaN</td>\n",
       "      <td>NaN</td>\n",
       "      <td>NaN</td>\n",
       "      <td>PA</td>\n",
       "      <td>X-ray</td>\n",
       "      <td>DX.1.2.840.113564.1722810162.20200420190511734...</td>\n",
       "      <td>NaN</td>\n",
       "      <td>Negative (covid-19 viral infection is excluded...</td>\n",
       "    </tr>\n",
       "    <tr>\n",
       "      <th>236</th>\n",
       "      <td>ANON59</td>\n",
       "      <td>NaN</td>\n",
       "      <td>NaN</td>\n",
       "      <td>NaN</td>\n",
       "      <td>NaN</td>\n",
       "      <td>NaN</td>\n",
       "      <td>NaN</td>\n",
       "      <td>NaN</td>\n",
       "      <td>PA</td>\n",
       "      <td>X-ray</td>\n",
       "      <td>DX.1.2.840.113564.1722810162.20200420203606112...</td>\n",
       "      <td>NaN</td>\n",
       "      <td>Inconclusive, date taken (YYYYMMDD): 20200420</td>\n",
       "    </tr>\n",
       "    <tr>\n",
       "      <th>237</th>\n",
       "      <td>ANON76</td>\n",
       "      <td>NaN</td>\n",
       "      <td>NaN</td>\n",
       "      <td>NaN</td>\n",
       "      <td>NaN</td>\n",
       "      <td>NaN</td>\n",
       "      <td>NaN</td>\n",
       "      <td>NaN</td>\n",
       "      <td>PA</td>\n",
       "      <td>X-ray</td>\n",
       "      <td>DX.1.2.840.113564.1722810162.20200421084943963...</td>\n",
       "      <td>NaN</td>\n",
       "      <td>Inconclusive, date taken (YYYYMMDD): 20200421</td>\n",
       "    </tr>\n",
       "  </tbody>\n",
       "</table>\n",
       "<p>238 rows × 13 columns</p>\n",
       "</div>"
      ],
      "text/plain": [
       "    patientid offset  sex  age     finding survival temperature  \\\n",
       "0     ANON196    NaN  NaN  NaN         NaN      NaN         NaN   \n",
       "1     ANON196    NaN  NaN  NaN         NaN      NaN         NaN   \n",
       "2      ANON56    NaN  NaN  NaN  No finding      NaN         NaN   \n",
       "3      ANON56    NaN  NaN  NaN  No finding      NaN         NaN   \n",
       "4     ANON196    NaN  NaN  NaN    COVID-19      NaN         NaN   \n",
       "..        ...    ...  ...  ...         ...      ...         ...   \n",
       "233    ANON33    NaN  NaN  NaN  No finding      NaN         NaN   \n",
       "234    ANON41    NaN  NaN  NaN  No finding      NaN         NaN   \n",
       "235    ANON93    NaN  NaN  NaN  No finding      NaN         NaN   \n",
       "236    ANON59    NaN  NaN  NaN         NaN      NaN         NaN   \n",
       "237    ANON76    NaN  NaN  NaN         NaN      NaN         NaN   \n",
       "\n",
       "    pO2 saturation view modality  \\\n",
       "0              NaN   PA    X-ray   \n",
       "1              NaN   PA    X-ray   \n",
       "2              NaN   PA    X-ray   \n",
       "3              NaN   PA    X-ray   \n",
       "4              NaN   PA    X-ray   \n",
       "..             ...  ...      ...   \n",
       "233            NaN   PA    X-ray   \n",
       "234            NaN   PA    X-ray   \n",
       "235            NaN   PA    X-ray   \n",
       "236            NaN   PA    X-ray   \n",
       "237            NaN   PA    X-ray   \n",
       "\n",
       "                                             imagename artifacts distortion  \\\n",
       "0    CR.1.2.840.113564.1722810170.20200313090023421...                  NaN   \n",
       "1    CR.1.2.840.113564.1722810170.20200313100318375...                  NaN   \n",
       "2    CR.1.2.840.113564.1722810170.20200317090830828...                  NaN   \n",
       "3    CR.1.2.840.113564.1722810170.20200317104341875...                  NaN   \n",
       "4    CR.1.2.840.113564.1722810170.20200318082923328...                  NaN   \n",
       "..                                                 ...                  ...   \n",
       "233  DX.1.2.840.113564.1722810162.20200420155936364...                  NaN   \n",
       "234  DX.1.2.840.113564.1722810162.20200420164750991...                  NaN   \n",
       "235  DX.1.2.840.113564.1722810162.20200420190511734...                  NaN   \n",
       "236  DX.1.2.840.113564.1722810162.20200420203606112...                  NaN   \n",
       "237  DX.1.2.840.113564.1722810162.20200421084943963...                  NaN   \n",
       "\n",
       "                                                 notes  \n",
       "0        Inconclusive, date taken (YYYYMMDD): 20200313  \n",
       "1        Inconclusive, date taken (YYYYMMDD): 20200313  \n",
       "2    Negative (covid-19 viral infection is excluded...  \n",
       "3    Negative (covid-19 viral infection is excluded...  \n",
       "4                    , date taken (YYYYMMDD): 20200318  \n",
       "..                                                 ...  \n",
       "233  Negative (covid-19 viral infection is excluded...  \n",
       "234  Negative (covid-19 viral infection is excluded...  \n",
       "235  Negative (covid-19 viral infection is excluded...  \n",
       "236      Inconclusive, date taken (YYYYMMDD): 20200420  \n",
       "237      Inconclusive, date taken (YYYYMMDD): 20200421  \n",
       "\n",
       "[238 rows x 13 columns]"
      ]
     },
     "execution_count": 16,
     "metadata": {},
     "output_type": "execute_result"
    }
   ],
   "source": [
    "## Dataframe Actuamed\n",
    "df = pd.DataFrame(source, columns=['patientid',\t'offset', 'sex',\t'age',\t'finding',\t\n",
    "                                   'survival',\t'temperature',\t'pO2 saturation',\t'view',\t\n",
    "                                   'modality',\t'imagename','artifacts distortion',\t'notes'])\n",
    "df"
   ]
  },
  {
   "cell_type": "code",
   "execution_count": 17,
   "metadata": {},
   "outputs": [],
   "source": [
    "## Actuamed\n",
    "data = []\n",
    "labels = []\n",
    "for i in source:\n",
    "  img = cv2.imread(path +'\\\\images\\\\'+ i[10])\n",
    "  img = cv2.resize(img, (128, 128))\n",
    "  img = cv2.cvtColor(img, cv2.COLOR_BGR2RGB)\n",
    "  label = i[4]\n",
    "  data.append(img)\n",
    "  labels.append(label)\n",
    "data = np.array(data)\n",
    "labels = np.array(labels)"
   ]
  },
  {
   "cell_type": "code",
   "execution_count": 18,
   "metadata": {},
   "outputs": [],
   "source": [
    "## Cek buat dataset actuamed, kalo datanya bersifat Nan artinya pneumonia\n",
    "a = ['COVID-19', 'No finding']\n",
    "for i in range(len(labels)): \n",
    "  if labels[i] not in a:\n",
    "    labels[i] = 'pneumonia'"
   ]
  },
  {
   "cell_type": "code",
   "execution_count": 19,
   "metadata": {},
   "outputs": [],
   "source": [
    "## Encoder label for actualmed\n",
    "le.fit(labels)\n",
    "labels = le.transform(labels)"
   ]
  },
  {
   "cell_type": "code",
   "execution_count": 20,
   "metadata": {},
   "outputs": [
    {
     "data": {
      "text/plain": [
       "array([2, 2, 1, 1, 0, 1, 0, 0, 0, 0, 0, 0, 0, 0, 0, 0, 2, 2, 0, 2, 0, 0,\n",
       "       1, 2, 2, 0, 1, 0, 0, 0, 0, 0, 0, 0, 0, 0, 2, 1, 0, 1, 0, 2, 0, 0,\n",
       "       0, 0, 0, 2, 2, 0, 0, 0, 1, 2, 2, 1, 1, 1, 1, 1, 1, 1, 1, 1, 1, 2,\n",
       "       1, 0, 1, 2, 1, 1, 2, 1, 2, 1, 1, 1, 2, 2, 1, 1, 1, 1, 1, 1, 1, 1,\n",
       "       1, 2, 0, 2, 0, 2, 1, 2, 2, 2, 1, 2, 1, 1, 0, 2, 1, 1, 1, 1, 1, 0,\n",
       "       1, 0, 1, 0, 1, 1, 2, 1, 1, 1, 1, 2, 0, 0, 0, 0, 1, 1, 1, 1, 1, 0,\n",
       "       1, 2, 0, 1, 0, 1, 1, 2, 1, 1, 1, 0, 2, 1, 1, 1, 0, 1, 1, 1, 1, 1,\n",
       "       1, 1, 2, 1, 1, 1, 1, 1, 2, 0, 0, 2, 2, 1, 1, 2, 1, 1, 1, 1, 2, 0,\n",
       "       2, 2, 1, 2, 2, 0, 2, 2, 1, 1, 2, 0, 1, 0, 2, 1, 1, 1, 1, 1, 1, 1,\n",
       "       1, 1, 2, 1, 1, 0, 1, 1, 1, 1, 1, 1, 1, 2, 1, 1, 1, 1, 1, 1, 1, 1,\n",
       "       1, 1, 2, 1, 1, 2, 1, 1, 1, 0, 2, 1, 1, 1, 1, 1, 2, 2])"
      ]
     },
     "execution_count": 20,
     "metadata": {},
     "output_type": "execute_result"
    }
   ],
   "source": [
    "labels"
   ]
  },
  {
   "cell_type": "code",
   "execution_count": 21,
   "metadata": {},
   "outputs": [],
   "source": [
    "## Combine the dataset (Actuamed & Kaggle Radiography & Kaggle CXR)\n",
    "new_label = np.concatenate((labels, labels1, labels2), axis=0)\n",
    "new_data = np.concatenate((data, images1, images2), axis=0)"
   ]
  },
  {
   "cell_type": "code",
   "execution_count": 22,
   "metadata": {},
   "outputs": [
    {
     "data": {
      "text/plain": [
       "array([[[[ 21,  21,  21],\n",
       "         [ 16,  16,  16],\n",
       "         [ 14,  14,  14],\n",
       "         ...,\n",
       "         [ 12,  12,  12],\n",
       "         [ 12,  12,  12],\n",
       "         [ 14,  14,  14]],\n",
       "\n",
       "        [[ 15,  15,  15],\n",
       "         [ 14,  14,  14],\n",
       "         [ 12,  12,  12],\n",
       "         ...,\n",
       "         [ 12,  12,  12],\n",
       "         [ 13,  13,  13],\n",
       "         [ 16,  16,  16]],\n",
       "\n",
       "        [[ 15,  15,  15],\n",
       "         [ 15,  15,  15],\n",
       "         [ 12,  12,  12],\n",
       "         ...,\n",
       "         [ 12,  12,  12],\n",
       "         [ 13,  13,  13],\n",
       "         [ 15,  15,  15]],\n",
       "\n",
       "        ...,\n",
       "\n",
       "        [[  5,   5,   5],\n",
       "         [  5,   5,   5],\n",
       "         [  4,   4,   4],\n",
       "         ...,\n",
       "         [104, 104, 104],\n",
       "         [ 85,  85,  85],\n",
       "         [ 72,  72,  72]],\n",
       "\n",
       "        [[  5,   5,   5],\n",
       "         [  6,   6,   6],\n",
       "         [  5,   5,   5],\n",
       "         ...,\n",
       "         [100, 100, 100],\n",
       "         [ 89,  89,  89],\n",
       "         [ 66,  66,  66]],\n",
       "\n",
       "        [[  5,   5,   5],\n",
       "         [  6,   6,   6],\n",
       "         [  6,   6,   6],\n",
       "         ...,\n",
       "         [115, 115, 115],\n",
       "         [ 90,  90,  90],\n",
       "         [ 79,  79,  79]]],\n",
       "\n",
       "\n",
       "       [[[ 55,  55,  55],\n",
       "         [ 39,  39,  39],\n",
       "         [ 25,  25,  25],\n",
       "         ...,\n",
       "         [ 13,  13,  13],\n",
       "         [ 14,  14,  14],\n",
       "         [ 20,  20,  20]],\n",
       "\n",
       "        [[ 37,  37,  37],\n",
       "         [ 32,  32,  32],\n",
       "         [ 21,  21,  21],\n",
       "         ...,\n",
       "         [ 13,  13,  13],\n",
       "         [ 15,  15,  15],\n",
       "         [ 20,  20,  20]],\n",
       "\n",
       "        [[ 30,  30,  30],\n",
       "         [ 40,  40,  40],\n",
       "         [ 21,  21,  21],\n",
       "         ...,\n",
       "         [ 14,  14,  14],\n",
       "         [ 14,  14,  14],\n",
       "         [ 19,  19,  19]],\n",
       "\n",
       "        ...,\n",
       "\n",
       "        [[ 89,  89,  89],\n",
       "         [ 78,  78,  78],\n",
       "         [ 75,  75,  75],\n",
       "         ...,\n",
       "         [  3,   3,   3],\n",
       "         [  4,   4,   4],\n",
       "         [  7,   7,   7]],\n",
       "\n",
       "        [[ 80,  80,  80],\n",
       "         [ 78,  78,  78],\n",
       "         [ 79,  79,  79],\n",
       "         ...,\n",
       "         [  3,   3,   3],\n",
       "         [  5,   5,   5],\n",
       "         [  7,   7,   7]],\n",
       "\n",
       "        [[ 86,  86,  86],\n",
       "         [ 89,  89,  89],\n",
       "         [ 85,  85,  85],\n",
       "         ...,\n",
       "         [  4,   4,   4],\n",
       "         [  7,   7,   7],\n",
       "         [ 11,  11,  11]]],\n",
       "\n",
       "\n",
       "       [[[ 27,  27,  27],\n",
       "         [ 17,  17,  17],\n",
       "         [ 14,  14,  14],\n",
       "         ...,\n",
       "         [ 12,  12,  12],\n",
       "         [ 12,  12,  12],\n",
       "         [ 15,  15,  15]],\n",
       "\n",
       "        [[ 28,  28,  28],\n",
       "         [ 17,  17,  17],\n",
       "         [ 13,  13,  13],\n",
       "         ...,\n",
       "         [ 10,  10,  10],\n",
       "         [  9,   9,   9],\n",
       "         [  9,   9,   9]],\n",
       "\n",
       "        [[ 21,  21,  21],\n",
       "         [ 16,  16,  16],\n",
       "         [ 13,  13,  13],\n",
       "         ...,\n",
       "         [  8,   8,   8],\n",
       "         [  8,   8,   8],\n",
       "         [ 11,  11,  11]],\n",
       "\n",
       "        ...,\n",
       "\n",
       "        [[115, 115, 115],\n",
       "         [ 80,  80,  80],\n",
       "         [ 56,  56,  56],\n",
       "         ...,\n",
       "         [115, 115, 115],\n",
       "         [101, 101, 101],\n",
       "         [ 23,  23,  23]],\n",
       "\n",
       "        [[119, 119, 119],\n",
       "         [ 76,  76,  76],\n",
       "         [ 58,  58,  58],\n",
       "         ...,\n",
       "         [122, 122, 122],\n",
       "         [ 95,  95,  95],\n",
       "         [  6,   6,   6]],\n",
       "\n",
       "        [[119, 119, 119],\n",
       "         [ 93,  93,  93],\n",
       "         [ 74,  74,  74],\n",
       "         ...,\n",
       "         [134, 134, 134],\n",
       "         [ 74,  74,  74],\n",
       "         [ 14,  14,  14]]],\n",
       "\n",
       "\n",
       "       ...,\n",
       "\n",
       "\n",
       "       [[[ 76,  76,  76],\n",
       "         [ 80,  80,  80],\n",
       "         [123, 123, 123],\n",
       "         ...,\n",
       "         [ 76,  76,  76],\n",
       "         [ 73,  73,  73],\n",
       "         [ 63,  63,  63]],\n",
       "\n",
       "        [[ 73,  73,  73],\n",
       "         [ 80,  80,  80],\n",
       "         [103, 103, 103],\n",
       "         ...,\n",
       "         [ 76,  76,  76],\n",
       "         [ 72,  72,  72],\n",
       "         [ 63,  63,  63]],\n",
       "\n",
       "        [[ 74,  74,  74],\n",
       "         [ 80,  80,  80],\n",
       "         [ 91,  91,  91],\n",
       "         ...,\n",
       "         [ 78,  78,  78],\n",
       "         [ 70,  70,  70],\n",
       "         [ 64,  64,  64]],\n",
       "\n",
       "        ...,\n",
       "\n",
       "        [[  0,   0,   0],\n",
       "         [  0,   0,   0],\n",
       "         [  0,   0,   0],\n",
       "         ...,\n",
       "         [  0,   0,   0],\n",
       "         [  0,   0,   0],\n",
       "         [  0,   0,   0]],\n",
       "\n",
       "        [[  0,   0,   0],\n",
       "         [  0,   0,   0],\n",
       "         [  0,   0,   0],\n",
       "         ...,\n",
       "         [  0,   0,   0],\n",
       "         [  0,   0,   0],\n",
       "         [  0,   0,   0]],\n",
       "\n",
       "        [[  0,   0,   0],\n",
       "         [  0,   0,   0],\n",
       "         [  0,   0,   0],\n",
       "         ...,\n",
       "         [  0,   0,   0],\n",
       "         [  0,   0,   0],\n",
       "         [  0,   0,   0]]],\n",
       "\n",
       "\n",
       "       [[[ 37,  37,  37],\n",
       "         [ 46,  46,  46],\n",
       "         [ 57,  57,  57],\n",
       "         ...,\n",
       "         [  4,   4,   4],\n",
       "         [  0,   0,   0],\n",
       "         [  0,   0,   0]],\n",
       "\n",
       "        [[ 34,  34,  34],\n",
       "         [ 42,  42,  42],\n",
       "         [ 50,  50,  50],\n",
       "         ...,\n",
       "         [  1,   1,   1],\n",
       "         [  0,   0,   0],\n",
       "         [  0,   0,   0]],\n",
       "\n",
       "        [[ 30,  30,  30],\n",
       "         [ 40,  40,  40],\n",
       "         [ 49,  49,  49],\n",
       "         ...,\n",
       "         [  0,   0,   0],\n",
       "         [  0,   0,   0],\n",
       "         [  0,   0,   0]],\n",
       "\n",
       "        ...,\n",
       "\n",
       "        [[  0,   0,   0],\n",
       "         [  0,   0,   0],\n",
       "         [  0,   0,   0],\n",
       "         ...,\n",
       "         [  0,   0,   0],\n",
       "         [  0,   0,   0],\n",
       "         [  0,   0,   0]],\n",
       "\n",
       "        [[  0,   0,   0],\n",
       "         [  0,   0,   0],\n",
       "         [  0,   0,   0],\n",
       "         ...,\n",
       "         [  0,   0,   0],\n",
       "         [  0,   0,   0],\n",
       "         [  0,   0,   0]],\n",
       "\n",
       "        [[  0,   0,   0],\n",
       "         [  0,   0,   0],\n",
       "         [  0,   0,   0],\n",
       "         ...,\n",
       "         [  0,   0,   0],\n",
       "         [  0,   0,   0],\n",
       "         [  0,   0,   0]]],\n",
       "\n",
       "\n",
       "       [[[ 26,  26,  26],\n",
       "         [ 34,  34,  34],\n",
       "         [ 40,  40,  40],\n",
       "         ...,\n",
       "         [ 38,  38,  38],\n",
       "         [ 31,  31,  31],\n",
       "         [ 21,  21,  21]],\n",
       "\n",
       "        [[ 23,  23,  23],\n",
       "         [ 32,  32,  32],\n",
       "         [ 38,  38,  38],\n",
       "         ...,\n",
       "         [ 35,  35,  35],\n",
       "         [ 29,  29,  29],\n",
       "         [ 20,  20,  20]],\n",
       "\n",
       "        [[ 21,  21,  21],\n",
       "         [ 29,  29,  29],\n",
       "         [ 36,  36,  36],\n",
       "         ...,\n",
       "         [ 34,  34,  34],\n",
       "         [ 27,  27,  27],\n",
       "         [ 18,  18,  18]],\n",
       "\n",
       "        ...,\n",
       "\n",
       "        [[  0,   0,   0],\n",
       "         [  0,   0,   0],\n",
       "         [  0,   0,   0],\n",
       "         ...,\n",
       "         [  0,   0,   0],\n",
       "         [  0,   0,   0],\n",
       "         [  0,   0,   0]],\n",
       "\n",
       "        [[  0,   0,   0],\n",
       "         [  0,   0,   0],\n",
       "         [  0,   0,   0],\n",
       "         ...,\n",
       "         [  0,   0,   0],\n",
       "         [  0,   0,   0],\n",
       "         [  0,   0,   0]],\n",
       "\n",
       "        [[  0,   0,   0],\n",
       "         [  0,   0,   0],\n",
       "         [  0,   0,   0],\n",
       "         ...,\n",
       "         [  0,   0,   0],\n",
       "         [  0,   0,   0],\n",
       "         [  0,   0,   0]]]], dtype=uint8)"
      ]
     },
     "execution_count": 22,
     "metadata": {},
     "output_type": "execute_result"
    }
   ],
   "source": [
    "## Sebelum d normalisasi\n",
    "new_data"
   ]
  },
  {
   "cell_type": "code",
   "execution_count": 23,
   "metadata": {},
   "outputs": [],
   "source": [
    "# dibagi 255 untuk normalisasi\n",
    "new_data = new_data/255."
   ]
  },
  {
   "cell_type": "code",
   "execution_count": 24,
   "metadata": {},
   "outputs": [
    {
     "data": {
      "text/plain": [
       "array([2, 2, 1, ..., 1, 1, 1])"
      ]
     },
     "execution_count": 24,
     "metadata": {},
     "output_type": "execute_result"
    }
   ],
   "source": [
    "## Sesudah di normalisasi\n",
    "new_label"
   ]
  },
  {
   "cell_type": "code",
   "execution_count": 25,
   "metadata": {},
   "outputs": [
    {
     "data": {
      "text/plain": [
       "array([[[[0.08235294, 0.08235294, 0.08235294],\n",
       "         [0.0627451 , 0.0627451 , 0.0627451 ],\n",
       "         [0.05490196, 0.05490196, 0.05490196],\n",
       "         ...,\n",
       "         [0.04705882, 0.04705882, 0.04705882],\n",
       "         [0.04705882, 0.04705882, 0.04705882],\n",
       "         [0.05490196, 0.05490196, 0.05490196]],\n",
       "\n",
       "        [[0.05882353, 0.05882353, 0.05882353],\n",
       "         [0.05490196, 0.05490196, 0.05490196],\n",
       "         [0.04705882, 0.04705882, 0.04705882],\n",
       "         ...,\n",
       "         [0.04705882, 0.04705882, 0.04705882],\n",
       "         [0.05098039, 0.05098039, 0.05098039],\n",
       "         [0.0627451 , 0.0627451 , 0.0627451 ]],\n",
       "\n",
       "        [[0.05882353, 0.05882353, 0.05882353],\n",
       "         [0.05882353, 0.05882353, 0.05882353],\n",
       "         [0.04705882, 0.04705882, 0.04705882],\n",
       "         ...,\n",
       "         [0.04705882, 0.04705882, 0.04705882],\n",
       "         [0.05098039, 0.05098039, 0.05098039],\n",
       "         [0.05882353, 0.05882353, 0.05882353]],\n",
       "\n",
       "        ...,\n",
       "\n",
       "        [[0.01960784, 0.01960784, 0.01960784],\n",
       "         [0.01960784, 0.01960784, 0.01960784],\n",
       "         [0.01568627, 0.01568627, 0.01568627],\n",
       "         ...,\n",
       "         [0.40784314, 0.40784314, 0.40784314],\n",
       "         [0.33333333, 0.33333333, 0.33333333],\n",
       "         [0.28235294, 0.28235294, 0.28235294]],\n",
       "\n",
       "        [[0.01960784, 0.01960784, 0.01960784],\n",
       "         [0.02352941, 0.02352941, 0.02352941],\n",
       "         [0.01960784, 0.01960784, 0.01960784],\n",
       "         ...,\n",
       "         [0.39215686, 0.39215686, 0.39215686],\n",
       "         [0.34901961, 0.34901961, 0.34901961],\n",
       "         [0.25882353, 0.25882353, 0.25882353]],\n",
       "\n",
       "        [[0.01960784, 0.01960784, 0.01960784],\n",
       "         [0.02352941, 0.02352941, 0.02352941],\n",
       "         [0.02352941, 0.02352941, 0.02352941],\n",
       "         ...,\n",
       "         [0.45098039, 0.45098039, 0.45098039],\n",
       "         [0.35294118, 0.35294118, 0.35294118],\n",
       "         [0.30980392, 0.30980392, 0.30980392]]],\n",
       "\n",
       "\n",
       "       [[[0.21568627, 0.21568627, 0.21568627],\n",
       "         [0.15294118, 0.15294118, 0.15294118],\n",
       "         [0.09803922, 0.09803922, 0.09803922],\n",
       "         ...,\n",
       "         [0.05098039, 0.05098039, 0.05098039],\n",
       "         [0.05490196, 0.05490196, 0.05490196],\n",
       "         [0.07843137, 0.07843137, 0.07843137]],\n",
       "\n",
       "        [[0.14509804, 0.14509804, 0.14509804],\n",
       "         [0.1254902 , 0.1254902 , 0.1254902 ],\n",
       "         [0.08235294, 0.08235294, 0.08235294],\n",
       "         ...,\n",
       "         [0.05098039, 0.05098039, 0.05098039],\n",
       "         [0.05882353, 0.05882353, 0.05882353],\n",
       "         [0.07843137, 0.07843137, 0.07843137]],\n",
       "\n",
       "        [[0.11764706, 0.11764706, 0.11764706],\n",
       "         [0.15686275, 0.15686275, 0.15686275],\n",
       "         [0.08235294, 0.08235294, 0.08235294],\n",
       "         ...,\n",
       "         [0.05490196, 0.05490196, 0.05490196],\n",
       "         [0.05490196, 0.05490196, 0.05490196],\n",
       "         [0.0745098 , 0.0745098 , 0.0745098 ]],\n",
       "\n",
       "        ...,\n",
       "\n",
       "        [[0.34901961, 0.34901961, 0.34901961],\n",
       "         [0.30588235, 0.30588235, 0.30588235],\n",
       "         [0.29411765, 0.29411765, 0.29411765],\n",
       "         ...,\n",
       "         [0.01176471, 0.01176471, 0.01176471],\n",
       "         [0.01568627, 0.01568627, 0.01568627],\n",
       "         [0.02745098, 0.02745098, 0.02745098]],\n",
       "\n",
       "        [[0.31372549, 0.31372549, 0.31372549],\n",
       "         [0.30588235, 0.30588235, 0.30588235],\n",
       "         [0.30980392, 0.30980392, 0.30980392],\n",
       "         ...,\n",
       "         [0.01176471, 0.01176471, 0.01176471],\n",
       "         [0.01960784, 0.01960784, 0.01960784],\n",
       "         [0.02745098, 0.02745098, 0.02745098]],\n",
       "\n",
       "        [[0.3372549 , 0.3372549 , 0.3372549 ],\n",
       "         [0.34901961, 0.34901961, 0.34901961],\n",
       "         [0.33333333, 0.33333333, 0.33333333],\n",
       "         ...,\n",
       "         [0.01568627, 0.01568627, 0.01568627],\n",
       "         [0.02745098, 0.02745098, 0.02745098],\n",
       "         [0.04313725, 0.04313725, 0.04313725]]],\n",
       "\n",
       "\n",
       "       [[[0.10588235, 0.10588235, 0.10588235],\n",
       "         [0.06666667, 0.06666667, 0.06666667],\n",
       "         [0.05490196, 0.05490196, 0.05490196],\n",
       "         ...,\n",
       "         [0.04705882, 0.04705882, 0.04705882],\n",
       "         [0.04705882, 0.04705882, 0.04705882],\n",
       "         [0.05882353, 0.05882353, 0.05882353]],\n",
       "\n",
       "        [[0.10980392, 0.10980392, 0.10980392],\n",
       "         [0.06666667, 0.06666667, 0.06666667],\n",
       "         [0.05098039, 0.05098039, 0.05098039],\n",
       "         ...,\n",
       "         [0.03921569, 0.03921569, 0.03921569],\n",
       "         [0.03529412, 0.03529412, 0.03529412],\n",
       "         [0.03529412, 0.03529412, 0.03529412]],\n",
       "\n",
       "        [[0.08235294, 0.08235294, 0.08235294],\n",
       "         [0.0627451 , 0.0627451 , 0.0627451 ],\n",
       "         [0.05098039, 0.05098039, 0.05098039],\n",
       "         ...,\n",
       "         [0.03137255, 0.03137255, 0.03137255],\n",
       "         [0.03137255, 0.03137255, 0.03137255],\n",
       "         [0.04313725, 0.04313725, 0.04313725]],\n",
       "\n",
       "        ...,\n",
       "\n",
       "        [[0.45098039, 0.45098039, 0.45098039],\n",
       "         [0.31372549, 0.31372549, 0.31372549],\n",
       "         [0.21960784, 0.21960784, 0.21960784],\n",
       "         ...,\n",
       "         [0.45098039, 0.45098039, 0.45098039],\n",
       "         [0.39607843, 0.39607843, 0.39607843],\n",
       "         [0.09019608, 0.09019608, 0.09019608]],\n",
       "\n",
       "        [[0.46666667, 0.46666667, 0.46666667],\n",
       "         [0.29803922, 0.29803922, 0.29803922],\n",
       "         [0.22745098, 0.22745098, 0.22745098],\n",
       "         ...,\n",
       "         [0.47843137, 0.47843137, 0.47843137],\n",
       "         [0.37254902, 0.37254902, 0.37254902],\n",
       "         [0.02352941, 0.02352941, 0.02352941]],\n",
       "\n",
       "        [[0.46666667, 0.46666667, 0.46666667],\n",
       "         [0.36470588, 0.36470588, 0.36470588],\n",
       "         [0.29019608, 0.29019608, 0.29019608],\n",
       "         ...,\n",
       "         [0.5254902 , 0.5254902 , 0.5254902 ],\n",
       "         [0.29019608, 0.29019608, 0.29019608],\n",
       "         [0.05490196, 0.05490196, 0.05490196]]],\n",
       "\n",
       "\n",
       "       ...,\n",
       "\n",
       "\n",
       "       [[[0.29803922, 0.29803922, 0.29803922],\n",
       "         [0.31372549, 0.31372549, 0.31372549],\n",
       "         [0.48235294, 0.48235294, 0.48235294],\n",
       "         ...,\n",
       "         [0.29803922, 0.29803922, 0.29803922],\n",
       "         [0.28627451, 0.28627451, 0.28627451],\n",
       "         [0.24705882, 0.24705882, 0.24705882]],\n",
       "\n",
       "        [[0.28627451, 0.28627451, 0.28627451],\n",
       "         [0.31372549, 0.31372549, 0.31372549],\n",
       "         [0.40392157, 0.40392157, 0.40392157],\n",
       "         ...,\n",
       "         [0.29803922, 0.29803922, 0.29803922],\n",
       "         [0.28235294, 0.28235294, 0.28235294],\n",
       "         [0.24705882, 0.24705882, 0.24705882]],\n",
       "\n",
       "        [[0.29019608, 0.29019608, 0.29019608],\n",
       "         [0.31372549, 0.31372549, 0.31372549],\n",
       "         [0.35686275, 0.35686275, 0.35686275],\n",
       "         ...,\n",
       "         [0.30588235, 0.30588235, 0.30588235],\n",
       "         [0.2745098 , 0.2745098 , 0.2745098 ],\n",
       "         [0.25098039, 0.25098039, 0.25098039]],\n",
       "\n",
       "        ...,\n",
       "\n",
       "        [[0.        , 0.        , 0.        ],\n",
       "         [0.        , 0.        , 0.        ],\n",
       "         [0.        , 0.        , 0.        ],\n",
       "         ...,\n",
       "         [0.        , 0.        , 0.        ],\n",
       "         [0.        , 0.        , 0.        ],\n",
       "         [0.        , 0.        , 0.        ]],\n",
       "\n",
       "        [[0.        , 0.        , 0.        ],\n",
       "         [0.        , 0.        , 0.        ],\n",
       "         [0.        , 0.        , 0.        ],\n",
       "         ...,\n",
       "         [0.        , 0.        , 0.        ],\n",
       "         [0.        , 0.        , 0.        ],\n",
       "         [0.        , 0.        , 0.        ]],\n",
       "\n",
       "        [[0.        , 0.        , 0.        ],\n",
       "         [0.        , 0.        , 0.        ],\n",
       "         [0.        , 0.        , 0.        ],\n",
       "         ...,\n",
       "         [0.        , 0.        , 0.        ],\n",
       "         [0.        , 0.        , 0.        ],\n",
       "         [0.        , 0.        , 0.        ]]],\n",
       "\n",
       "\n",
       "       [[[0.14509804, 0.14509804, 0.14509804],\n",
       "         [0.18039216, 0.18039216, 0.18039216],\n",
       "         [0.22352941, 0.22352941, 0.22352941],\n",
       "         ...,\n",
       "         [0.01568627, 0.01568627, 0.01568627],\n",
       "         [0.        , 0.        , 0.        ],\n",
       "         [0.        , 0.        , 0.        ]],\n",
       "\n",
       "        [[0.13333333, 0.13333333, 0.13333333],\n",
       "         [0.16470588, 0.16470588, 0.16470588],\n",
       "         [0.19607843, 0.19607843, 0.19607843],\n",
       "         ...,\n",
       "         [0.00392157, 0.00392157, 0.00392157],\n",
       "         [0.        , 0.        , 0.        ],\n",
       "         [0.        , 0.        , 0.        ]],\n",
       "\n",
       "        [[0.11764706, 0.11764706, 0.11764706],\n",
       "         [0.15686275, 0.15686275, 0.15686275],\n",
       "         [0.19215686, 0.19215686, 0.19215686],\n",
       "         ...,\n",
       "         [0.        , 0.        , 0.        ],\n",
       "         [0.        , 0.        , 0.        ],\n",
       "         [0.        , 0.        , 0.        ]],\n",
       "\n",
       "        ...,\n",
       "\n",
       "        [[0.        , 0.        , 0.        ],\n",
       "         [0.        , 0.        , 0.        ],\n",
       "         [0.        , 0.        , 0.        ],\n",
       "         ...,\n",
       "         [0.        , 0.        , 0.        ],\n",
       "         [0.        , 0.        , 0.        ],\n",
       "         [0.        , 0.        , 0.        ]],\n",
       "\n",
       "        [[0.        , 0.        , 0.        ],\n",
       "         [0.        , 0.        , 0.        ],\n",
       "         [0.        , 0.        , 0.        ],\n",
       "         ...,\n",
       "         [0.        , 0.        , 0.        ],\n",
       "         [0.        , 0.        , 0.        ],\n",
       "         [0.        , 0.        , 0.        ]],\n",
       "\n",
       "        [[0.        , 0.        , 0.        ],\n",
       "         [0.        , 0.        , 0.        ],\n",
       "         [0.        , 0.        , 0.        ],\n",
       "         ...,\n",
       "         [0.        , 0.        , 0.        ],\n",
       "         [0.        , 0.        , 0.        ],\n",
       "         [0.        , 0.        , 0.        ]]],\n",
       "\n",
       "\n",
       "       [[[0.10196078, 0.10196078, 0.10196078],\n",
       "         [0.13333333, 0.13333333, 0.13333333],\n",
       "         [0.15686275, 0.15686275, 0.15686275],\n",
       "         ...,\n",
       "         [0.14901961, 0.14901961, 0.14901961],\n",
       "         [0.12156863, 0.12156863, 0.12156863],\n",
       "         [0.08235294, 0.08235294, 0.08235294]],\n",
       "\n",
       "        [[0.09019608, 0.09019608, 0.09019608],\n",
       "         [0.1254902 , 0.1254902 , 0.1254902 ],\n",
       "         [0.14901961, 0.14901961, 0.14901961],\n",
       "         ...,\n",
       "         [0.1372549 , 0.1372549 , 0.1372549 ],\n",
       "         [0.11372549, 0.11372549, 0.11372549],\n",
       "         [0.07843137, 0.07843137, 0.07843137]],\n",
       "\n",
       "        [[0.08235294, 0.08235294, 0.08235294],\n",
       "         [0.11372549, 0.11372549, 0.11372549],\n",
       "         [0.14117647, 0.14117647, 0.14117647],\n",
       "         ...,\n",
       "         [0.13333333, 0.13333333, 0.13333333],\n",
       "         [0.10588235, 0.10588235, 0.10588235],\n",
       "         [0.07058824, 0.07058824, 0.07058824]],\n",
       "\n",
       "        ...,\n",
       "\n",
       "        [[0.        , 0.        , 0.        ],\n",
       "         [0.        , 0.        , 0.        ],\n",
       "         [0.        , 0.        , 0.        ],\n",
       "         ...,\n",
       "         [0.        , 0.        , 0.        ],\n",
       "         [0.        , 0.        , 0.        ],\n",
       "         [0.        , 0.        , 0.        ]],\n",
       "\n",
       "        [[0.        , 0.        , 0.        ],\n",
       "         [0.        , 0.        , 0.        ],\n",
       "         [0.        , 0.        , 0.        ],\n",
       "         ...,\n",
       "         [0.        , 0.        , 0.        ],\n",
       "         [0.        , 0.        , 0.        ],\n",
       "         [0.        , 0.        , 0.        ]],\n",
       "\n",
       "        [[0.        , 0.        , 0.        ],\n",
       "         [0.        , 0.        , 0.        ],\n",
       "         [0.        , 0.        , 0.        ],\n",
       "         ...,\n",
       "         [0.        , 0.        , 0.        ],\n",
       "         [0.        , 0.        , 0.        ],\n",
       "         [0.        , 0.        , 0.        ]]]])"
      ]
     },
     "execution_count": 25,
     "metadata": {},
     "output_type": "execute_result"
    }
   ],
   "source": [
    "new_data"
   ]
  },
  {
   "cell_type": "code",
   "execution_count": 26,
   "metadata": {},
   "outputs": [
    {
     "data": {
      "text/plain": [
       "(12326, 128, 128, 3)"
      ]
     },
     "execution_count": 26,
     "metadata": {},
     "output_type": "execute_result"
    }
   ],
   "source": [
    "new_data.shape"
   ]
  },
  {
   "cell_type": "code",
   "execution_count": 27,
   "metadata": {},
   "outputs": [],
   "source": [
    "new_data = new_data.reshape(len(new_data), 128, 128, 3)"
   ]
  },
  {
   "cell_type": "code",
   "execution_count": 28,
   "metadata": {},
   "outputs": [
    {
     "data": {
      "text/plain": [
       "<matplotlib.image.AxesImage at 0x1d9b48254f0>"
      ]
     },
     "execution_count": 28,
     "metadata": {},
     "output_type": "execute_result"
    },
    {
     "data": {
      "image/png": "[encoded data removed]",
      "text/plain": [
       "<Figure size 432x288 with 1 Axes>"
      ]
     },
     "metadata": {
      "needs_background": "light"
     },
     "output_type": "display_data"
    }
   ],
   "source": [
    "plt.imshow(new_data[1000], cmap = 'gray')"
   ]
  },
  {
   "cell_type": "code",
   "execution_count": 29,
   "metadata": {},
   "outputs": [
    {
     "name": "stdout",
     "output_type": "stream",
     "text": [
      "3674\n",
      "4326\n",
      "4326\n"
     ]
    }
   ],
   "source": [
    "# Check how many data each of the class feature \n",
    "# 0 -> covid\n",
    "# 1 -> normal\n",
    "# 2 -> pneumonia\n",
    "print(len(np.where(new_label == 0)[0]))\n",
    "print(len(np.where(new_label == 1)[0]))\n",
    "print(len(np.where(new_label == 2)[0]))"
   ]
  },
  {
   "cell_type": "markdown",
   "metadata": {},
   "source": []
  },
  {
   "cell_type": "markdown",
   "metadata": {},
   "source": [
    "#### Deep Learning Model"
   ]
  },
  {
   "cell_type": "code",
   "execution_count": 26,
   "metadata": {},
   "outputs": [],
   "source": [
    "## Deep Learning Proposed Model\n",
    "input = Input(shape=(128,128,3))\n",
    "x = Conv2D(16, (3, 3), input_shape=(128,128,1), activation='relu')(input)\n",
    "x = MaxPooling2D((2, 2))(x)\n",
    "x = Conv2D(32, (3, 3), activation='relu')(x)\n",
    "x = MaxPooling2D((2, 2))(x)\n",
    "x = Conv2D(64, (3, 3), activation='relu')(x)\n",
    "x = MaxPooling2D((2, 2))(x)\n",
    "x = Conv2D(256, (3, 3), activation='relu')(x)\n",
    "x = MaxPooling2D((2, 2))(x)\n",
    "x = Flatten()(x)\n",
    "x = Dense(128, activation='relu')(x)\n",
    "output = Dense(3, activation=\"softmax\")(x)\n",
    "model = Model(inputs=input, outputs=output)"
   ]
  },
  {
   "cell_type": "code",
   "execution_count": 27,
   "metadata": {},
   "outputs": [
    {
     "name": "stdout",
     "output_type": "stream",
     "text": [
      "Model: \"model\"\n",
      "_________________________________________________________________\n",
      " Layer (type)                Output Shape              Param #   \n",
      "=================================================================\n",
      " input_1 (InputLayer)        [(None, 128, 128, 3)]     0         \n",
      "                                                                 \n",
      " conv2d (Conv2D)             (None, 126, 126, 16)      448       \n",
      "                                                                 \n",
      " max_pooling2d (MaxPooling2D  (None, 63, 63, 16)       0         \n",
      " )                                                               \n",
      "                                                                 \n",
      " conv2d_1 (Conv2D)           (None, 61, 61, 32)        4640      \n",
      "                                                                 \n",
      " max_pooling2d_1 (MaxPooling  (None, 30, 30, 32)       0         \n",
      " 2D)                                                             \n",
      "                                                                 \n",
      " conv2d_2 (Conv2D)           (None, 28, 28, 64)        18496     \n",
      "                                                                 \n",
      " max_pooling2d_2 (MaxPooling  (None, 14, 14, 64)       0         \n",
      " 2D)                                                             \n",
      "                                                                 \n",
      " conv2d_3 (Conv2D)           (None, 12, 12, 256)       147712    \n",
      "                                                                 \n",
      " max_pooling2d_3 (MaxPooling  (None, 6, 6, 256)        0         \n",
      " 2D)                                                             \n",
      "                                                                 \n",
      " flatten (Flatten)           (None, 9216)              0         \n",
      "                                                                 \n",
      " dense (Dense)               (None, 128)               1179776   \n",
      "                                                                 \n",
      " dense_1 (Dense)             (None, 3)                 387       \n",
      "                                                                 \n",
      "=================================================================\n",
      "Total params: 1,351,459\n",
      "Trainable params: 1,351,459\n",
      "Non-trainable params: 0\n",
      "_________________________________________________________________\n"
     ]
    }
   ],
   "source": [
    "model.summary()"
   ]
  },
  {
   "cell_type": "code",
   "execution_count": 30,
   "metadata": {},
   "outputs": [],
   "source": [
    "## Dibikin jadi array\n",
    "new_label = tf.keras.utils.to_categorical(new_label, num_classes=3)"
   ]
  },
  {
   "cell_type": "code",
   "execution_count": 29,
   "metadata": {},
   "outputs": [
    {
     "data": {
      "text/plain": [
       "array([[0., 0., 1.],\n",
       "       [0., 0., 1.],\n",
       "       [0., 1., 0.],\n",
       "       ...,\n",
       "       [0., 1., 0.],\n",
       "       [0., 1., 0.],\n",
       "       [0., 1., 0.]], dtype=float32)"
      ]
     },
     "execution_count": 29,
     "metadata": {},
     "output_type": "execute_result"
    }
   ],
   "source": [
    "new_label"
   ]
  },
  {
   "cell_type": "markdown",
   "metadata": {},
   "source": [
    "#### Training dan testing data"
   ]
  },
  {
   "cell_type": "code",
   "execution_count": 30,
   "metadata": {},
   "outputs": [],
   "source": [
    "x_train, x_test, y_train, y_test = train_test_split(new_data, new_label, test_size=0.2, random_state=1)"
   ]
  },
  {
   "cell_type": "code",
   "execution_count": null,
   "metadata": {},
   "outputs": [],
   "source": [
    "## Continue From Saved Model\n",
    "loaded_model = load_model(\"cxr_model2.h5\")"
   ]
  },
  {
   "cell_type": "code",
   "execution_count": 31,
   "metadata": {},
   "outputs": [
    {
     "name": "stdout",
     "output_type": "stream",
     "text": [
      "Epoch 1/30\n",
      "309/309 [==============================] - 423s 1s/step - loss: 0.4646 - accuracy: 0.8063 - val_loss: 0.3453 - val_accuracy: 0.8670\n",
      "Epoch 2/30\n",
      "309/309 [==============================] - 1329s 4s/step - loss: 0.2715 - accuracy: 0.9014 - val_loss: 0.2320 - val_accuracy: 0.9193\n",
      "Epoch 3/30\n",
      "309/309 [==============================] - 379s 1s/step - loss: 0.2184 - accuracy: 0.9224 - val_loss: 0.2259 - val_accuracy: 0.9323\n",
      "Epoch 4/30\n",
      "309/309 [==============================] - 369s 1s/step - loss: 0.1694 - accuracy: 0.9402 - val_loss: 0.2035 - val_accuracy: 0.9286\n",
      "Epoch 5/30\n",
      "309/309 [==============================] - 391s 1s/step - loss: 0.1500 - accuracy: 0.9448 - val_loss: 0.1758 - val_accuracy: 0.9359\n",
      "Epoch 6/30\n",
      "309/309 [==============================] - 416s 1s/step - loss: 0.1182 - accuracy: 0.9561 - val_loss: 0.2177 - val_accuracy: 0.9225\n",
      "Epoch 7/30\n",
      "309/309 [==============================] - 412s 1s/step - loss: 0.1027 - accuracy: 0.9630 - val_loss: 0.1757 - val_accuracy: 0.9432\n",
      "Epoch 8/30\n",
      "309/309 [==============================] - 408s 1s/step - loss: 0.0847 - accuracy: 0.9688 - val_loss: 0.1615 - val_accuracy: 0.9521\n",
      "Epoch 9/30\n",
      "309/309 [==============================] - 356s 1s/step - loss: 0.0615 - accuracy: 0.9767 - val_loss: 0.1971 - val_accuracy: 0.9424\n",
      "Epoch 10/30\n",
      "309/309 [==============================] - 349s 1s/step - loss: 0.0504 - accuracy: 0.9828 - val_loss: 0.3231 - val_accuracy: 0.9047\n",
      "Epoch 11/30\n",
      "309/309 [==============================] - 317s 1s/step - loss: 0.0507 - accuracy: 0.9812 - val_loss: 0.1992 - val_accuracy: 0.9473\n",
      "Epoch 12/30\n",
      "309/309 [==============================] - 333s 1s/step - loss: 0.0360 - accuracy: 0.9874 - val_loss: 0.2296 - val_accuracy: 0.9489\n",
      "Epoch 13/30\n",
      "309/309 [==============================] - 317s 1s/step - loss: 0.0334 - accuracy: 0.9898 - val_loss: 0.2339 - val_accuracy: 0.9404\n",
      "Epoch 14/30\n",
      "309/309 [==============================] - 305s 986ms/step - loss: 0.0371 - accuracy: 0.9867 - val_loss: 0.2149 - val_accuracy: 0.9530\n",
      "Epoch 15/30\n",
      "309/309 [==============================] - 326s 1s/step - loss: 0.0257 - accuracy: 0.9911 - val_loss: 0.2099 - val_accuracy: 0.9582\n",
      "Epoch 16/30\n",
      "287/309 [==========================>...] - ETA: 26s - loss: 0.0144 - accuracy: 0.9950"
     ]
    },
    {
     "ename": "ResourceExhaustedError",
     "evalue": "Graph execution error:\n\nDetected at node 'gradient_tape/model/max_pooling2d/MaxPool/MaxPoolGrad' defined at (most recent call last):\n    File \"c:\\Users\\alber\\AppData\\Local\\Programs\\Python\\Python39\\lib\\runpy.py\", line 197, in _run_module_as_main\n      return _run_code(code, main_globals, None,\n    File \"c:\\Users\\alber\\AppData\\Local\\Programs\\Python\\Python39\\lib\\runpy.py\", line 87, in _run_code\n      exec(code, run_globals)\n    File \"c:\\Users\\alber\\AppData\\Local\\Programs\\Python\\Python39\\lib\\site-packages\\ipykernel_launcher.py\", line 17, in <module>\n      app.launch_new_instance()\n    File \"c:\\Users\\alber\\AppData\\Local\\Programs\\Python\\Python39\\lib\\site-packages\\traitlets\\config\\application.py\", line 846, in launch_instance\n      app.start()\n    File \"c:\\Users\\alber\\AppData\\Local\\Programs\\Python\\Python39\\lib\\site-packages\\ipykernel\\kernelapp.py\", line 712, in start\n      self.io_loop.start()\n    File \"c:\\Users\\alber\\AppData\\Local\\Programs\\Python\\Python39\\lib\\site-packages\\tornado\\platform\\asyncio.py\", line 199, in start\n      self.asyncio_loop.run_forever()\n    File \"c:\\Users\\alber\\AppData\\Local\\Programs\\Python\\Python39\\lib\\asyncio\\base_events.py\", line 596, in run_forever\n      self._run_once()\n    File \"c:\\Users\\alber\\AppData\\Local\\Programs\\Python\\Python39\\lib\\asyncio\\base_events.py\", line 1890, in _run_once\n      handle._run()\n    File \"c:\\Users\\alber\\AppData\\Local\\Programs\\Python\\Python39\\lib\\asyncio\\events.py\", line 80, in _run\n      self._context.run(self._callback, *self._args)\n    File \"c:\\Users\\alber\\AppData\\Local\\Programs\\Python\\Python39\\lib\\site-packages\\ipykernel\\kernelbase.py\", line 504, in dispatch_queue\n      await self.process_one()\n    File \"c:\\Users\\alber\\AppData\\Local\\Programs\\Python\\Python39\\lib\\site-packages\\ipykernel\\kernelbase.py\", line 493, in process_one\n      await dispatch(*args)\n    File \"c:\\Users\\alber\\AppData\\Local\\Programs\\Python\\Python39\\lib\\site-packages\\ipykernel\\kernelbase.py\", line 400, in dispatch_shell\n      await result\n    File \"c:\\Users\\alber\\AppData\\Local\\Programs\\Python\\Python39\\lib\\site-packages\\ipykernel\\kernelbase.py\", line 724, in execute_request\n      reply_content = await reply_content\n    File \"c:\\Users\\alber\\AppData\\Local\\Programs\\Python\\Python39\\lib\\site-packages\\ipykernel\\ipkernel.py\", line 390, in do_execute\n      res = shell.run_cell(code, store_history=store_history, silent=silent)\n    File \"c:\\Users\\alber\\AppData\\Local\\Programs\\Python\\Python39\\lib\\site-packages\\ipykernel\\zmqshell.py\", line 528, in run_cell\n      return super().run_cell(*args, **kwargs)\n    File \"c:\\Users\\alber\\AppData\\Local\\Programs\\Python\\Python39\\lib\\site-packages\\IPython\\core\\interactiveshell.py\", line 2863, in run_cell\n      result = self._run_cell(\n    File \"c:\\Users\\alber\\AppData\\Local\\Programs\\Python\\Python39\\lib\\site-packages\\IPython\\core\\interactiveshell.py\", line 2909, in _run_cell\n      return runner(coro)\n    File \"c:\\Users\\alber\\AppData\\Local\\Programs\\Python\\Python39\\lib\\site-packages\\IPython\\core\\async_helpers.py\", line 129, in _pseudo_sync_runner\n      coro.send(None)\n    File \"c:\\Users\\alber\\AppData\\Local\\Programs\\Python\\Python39\\lib\\site-packages\\IPython\\core\\interactiveshell.py\", line 3106, in run_cell_async\n      has_raised = await self.run_ast_nodes(code_ast.body, cell_name,\n    File \"c:\\Users\\alber\\AppData\\Local\\Programs\\Python\\Python39\\lib\\site-packages\\IPython\\core\\interactiveshell.py\", line 3309, in run_ast_nodes\n      if await self.run_code(code, result, async_=asy):\n    File \"c:\\Users\\alber\\AppData\\Local\\Programs\\Python\\Python39\\lib\\site-packages\\IPython\\core\\interactiveshell.py\", line 3369, in run_code\n      exec(code_obj, self.user_global_ns, self.user_ns)\n    File \"C:\\Users\\alber\\AppData\\Local\\Temp\\ipykernel_14364\\1972185710.py\", line 7, in <cell line: 7>\n      history = model.fit(x_train, y_train, validation_data=(x_test, y_test), epochs=30, callbacks=[csv_logger])\n    File \"c:\\Users\\alber\\AppData\\Local\\Programs\\Python\\Python39\\lib\\site-packages\\keras\\utils\\traceback_utils.py\", line 64, in error_handler\n      return fn(*args, **kwargs)\n    File \"c:\\Users\\alber\\AppData\\Local\\Programs\\Python\\Python39\\lib\\site-packages\\keras\\engine\\training.py\", line 1384, in fit\n      tmp_logs = self.train_function(iterator)\n    File \"c:\\Users\\alber\\AppData\\Local\\Programs\\Python\\Python39\\lib\\site-packages\\keras\\engine\\training.py\", line 1021, in train_function\n      return step_function(self, iterator)\n    File \"c:\\Users\\alber\\AppData\\Local\\Programs\\Python\\Python39\\lib\\site-packages\\keras\\engine\\training.py\", line 1010, in step_function\n      outputs = model.distribute_strategy.run(run_step, args=(data,))\n    File \"c:\\Users\\alber\\AppData\\Local\\Programs\\Python\\Python39\\lib\\site-packages\\keras\\engine\\training.py\", line 1000, in run_step\n      outputs = model.train_step(data)\n    File \"c:\\Users\\alber\\AppData\\Local\\Programs\\Python\\Python39\\lib\\site-packages\\keras\\engine\\training.py\", line 863, in train_step\n      self.optimizer.minimize(loss, self.trainable_variables, tape=tape)\n    File \"c:\\Users\\alber\\AppData\\Local\\Programs\\Python\\Python39\\lib\\site-packages\\keras\\optimizer_v2\\optimizer_v2.py\", line 530, in minimize\n      grads_and_vars = self._compute_gradients(\n    File \"c:\\Users\\alber\\AppData\\Local\\Programs\\Python\\Python39\\lib\\site-packages\\keras\\optimizer_v2\\optimizer_v2.py\", line 583, in _compute_gradients\n      grads_and_vars = self._get_gradients(tape, loss, var_list, grad_loss)\n    File \"c:\\Users\\alber\\AppData\\Local\\Programs\\Python\\Python39\\lib\\site-packages\\keras\\optimizer_v2\\optimizer_v2.py\", line 464, in _get_gradients\n      grads = tape.gradient(loss, var_list, grad_loss)\nNode: 'gradient_tape/model/max_pooling2d/MaxPool/MaxPoolGrad'\nOOM when allocating tensor with shape[32,126,126,16] and type float on /job:localhost/replica:0/task:0/device:CPU:0 by allocator cpu\n\t [[{{node gradient_tape/model/max_pooling2d/MaxPool/MaxPoolGrad}}]]\nHint: If you want to see a list of allocated tensors when OOM happens, add report_tensor_allocations_upon_oom to RunOptions for current allocation info. This isn't available when running in Eager mode.\n [Op:__inference_train_function_1028]",
     "output_type": "error",
     "traceback": [
      "\u001b[1;31m---------------------------------------------------------------------------\u001b[0m",
      "\u001b[1;31mResourceExhaustedError\u001b[0m                    Traceback (most recent call last)",
      "\u001b[1;32mc:\\Users\\alber\\Desktop\\Semester 6\\Pengolahan Citra Digital\\pcd-final-project\\pcd-image-recognition\\main.ipynb Cell 45\u001b[0m in \u001b[0;36m<cell line: 7>\u001b[1;34m()\u001b[0m\n\u001b[0;32m      <a href='vscode-notebook-cell:/c%3A/Users/alber/Desktop/Semester%206/Pengolahan%20Citra%20Digital/pcd-final-project/pcd-image-recognition/main.ipynb#ch0000044?line=2'>3</a>\u001b[0m \u001b[39mfrom\u001b[39;00m \u001b[39mkeras\u001b[39;00m\u001b[39m.\u001b[39;00m\u001b[39mcallbacks\u001b[39;00m \u001b[39mimport\u001b[39;00m CSVLogger\n\u001b[0;32m      <a href='vscode-notebook-cell:/c%3A/Users/alber/Desktop/Semester%206/Pengolahan%20Citra%20Digital/pcd-final-project/pcd-image-recognition/main.ipynb#ch0000044?line=4'>5</a>\u001b[0m csv_logger \u001b[39m=\u001b[39m CSVLogger(\u001b[39m'\u001b[39m\u001b[39mtraining.log\u001b[39m\u001b[39m'\u001b[39m, separator \u001b[39m=\u001b[39m \u001b[39m'\u001b[39m\u001b[39m,\u001b[39m\u001b[39m'\u001b[39m, append \u001b[39m=\u001b[39m \u001b[39mFalse\u001b[39;00m)\n\u001b[1;32m----> <a href='vscode-notebook-cell:/c%3A/Users/alber/Desktop/Semester%206/Pengolahan%20Citra%20Digital/pcd-final-project/pcd-image-recognition/main.ipynb#ch0000044?line=6'>7</a>\u001b[0m history \u001b[39m=\u001b[39m model\u001b[39m.\u001b[39;49mfit(x_train, y_train, validation_data\u001b[39m=\u001b[39;49m(x_test, y_test), epochs\u001b[39m=\u001b[39;49m\u001b[39m30\u001b[39;49m, callbacks\u001b[39m=\u001b[39;49m[csv_logger])\n",
      "File \u001b[1;32mc:\\Users\\alber\\AppData\\Local\\Programs\\Python\\Python39\\lib\\site-packages\\keras\\utils\\traceback_utils.py:67\u001b[0m, in \u001b[0;36mfilter_traceback.<locals>.error_handler\u001b[1;34m(*args, **kwargs)\u001b[0m\n\u001b[0;32m     65\u001b[0m \u001b[39mexcept\u001b[39;00m \u001b[39mException\u001b[39;00m \u001b[39mas\u001b[39;00m e:  \u001b[39m# pylint: disable=broad-except\u001b[39;00m\n\u001b[0;32m     66\u001b[0m   filtered_tb \u001b[39m=\u001b[39m _process_traceback_frames(e\u001b[39m.\u001b[39m__traceback__)\n\u001b[1;32m---> 67\u001b[0m   \u001b[39mraise\u001b[39;00m e\u001b[39m.\u001b[39mwith_traceback(filtered_tb) \u001b[39mfrom\u001b[39;00m \u001b[39mNone\u001b[39m\n\u001b[0;32m     68\u001b[0m \u001b[39mfinally\u001b[39;00m:\n\u001b[0;32m     69\u001b[0m   \u001b[39mdel\u001b[39;00m filtered_tb\n",
      "File \u001b[1;32mc:\\Users\\alber\\AppData\\Local\\Programs\\Python\\Python39\\lib\\site-packages\\tensorflow\\python\\eager\\execute.py:54\u001b[0m, in \u001b[0;36mquick_execute\u001b[1;34m(op_name, num_outputs, inputs, attrs, ctx, name)\u001b[0m\n\u001b[0;32m     52\u001b[0m \u001b[39mtry\u001b[39;00m:\n\u001b[0;32m     53\u001b[0m   ctx\u001b[39m.\u001b[39mensure_initialized()\n\u001b[1;32m---> 54\u001b[0m   tensors \u001b[39m=\u001b[39m pywrap_tfe\u001b[39m.\u001b[39mTFE_Py_Execute(ctx\u001b[39m.\u001b[39m_handle, device_name, op_name,\n\u001b[0;32m     55\u001b[0m                                       inputs, attrs, num_outputs)\n\u001b[0;32m     56\u001b[0m \u001b[39mexcept\u001b[39;00m core\u001b[39m.\u001b[39m_NotOkStatusException \u001b[39mas\u001b[39;00m e:\n\u001b[0;32m     57\u001b[0m   \u001b[39mif\u001b[39;00m name \u001b[39mis\u001b[39;00m \u001b[39mnot\u001b[39;00m \u001b[39mNone\u001b[39;00m:\n",
      "\u001b[1;31mResourceExhaustedError\u001b[0m: Graph execution error:\n\nDetected at node 'gradient_tape/model/max_pooling2d/MaxPool/MaxPoolGrad' defined at (most recent call last):\n    File \"c:\\Users\\alber\\AppData\\Local\\Programs\\Python\\Python39\\lib\\runpy.py\", line 197, in _run_module_as_main\n      return _run_code(code, main_globals, None,\n    File \"c:\\Users\\alber\\AppData\\Local\\Programs\\Python\\Python39\\lib\\runpy.py\", line 87, in _run_code\n      exec(code, run_globals)\n    File \"c:\\Users\\alber\\AppData\\Local\\Programs\\Python\\Python39\\lib\\site-packages\\ipykernel_launcher.py\", line 17, in <module>\n      app.launch_new_instance()\n    File \"c:\\Users\\alber\\AppData\\Local\\Programs\\Python\\Python39\\lib\\site-packages\\traitlets\\config\\application.py\", line 846, in launch_instance\n      app.start()\n    File \"c:\\Users\\alber\\AppData\\Local\\Programs\\Python\\Python39\\lib\\site-packages\\ipykernel\\kernelapp.py\", line 712, in start\n      self.io_loop.start()\n    File \"c:\\Users\\alber\\AppData\\Local\\Programs\\Python\\Python39\\lib\\site-packages\\tornado\\platform\\asyncio.py\", line 199, in start\n      self.asyncio_loop.run_forever()\n    File \"c:\\Users\\alber\\AppData\\Local\\Programs\\Python\\Python39\\lib\\asyncio\\base_events.py\", line 596, in run_forever\n      self._run_once()\n    File \"c:\\Users\\alber\\AppData\\Local\\Programs\\Python\\Python39\\lib\\asyncio\\base_events.py\", line 1890, in _run_once\n      handle._run()\n    File \"c:\\Users\\alber\\AppData\\Local\\Programs\\Python\\Python39\\lib\\asyncio\\events.py\", line 80, in _run\n      self._context.run(self._callback, *self._args)\n    File \"c:\\Users\\alber\\AppData\\Local\\Programs\\Python\\Python39\\lib\\site-packages\\ipykernel\\kernelbase.py\", line 504, in dispatch_queue\n      await self.process_one()\n    File \"c:\\Users\\alber\\AppData\\Local\\Programs\\Python\\Python39\\lib\\site-packages\\ipykernel\\kernelbase.py\", line 493, in process_one\n      await dispatch(*args)\n    File \"c:\\Users\\alber\\AppData\\Local\\Programs\\Python\\Python39\\lib\\site-packages\\ipykernel\\kernelbase.py\", line 400, in dispatch_shell\n      await result\n    File \"c:\\Users\\alber\\AppData\\Local\\Programs\\Python\\Python39\\lib\\site-packages\\ipykernel\\kernelbase.py\", line 724, in execute_request\n      reply_content = await reply_content\n    File \"c:\\Users\\alber\\AppData\\Local\\Programs\\Python\\Python39\\lib\\site-packages\\ipykernel\\ipkernel.py\", line 390, in do_execute\n      res = shell.run_cell(code, store_history=store_history, silent=silent)\n    File \"c:\\Users\\alber\\AppData\\Local\\Programs\\Python\\Python39\\lib\\site-packages\\ipykernel\\zmqshell.py\", line 528, in run_cell\n      return super().run_cell(*args, **kwargs)\n    File \"c:\\Users\\alber\\AppData\\Local\\Programs\\Python\\Python39\\lib\\site-packages\\IPython\\core\\interactiveshell.py\", line 2863, in run_cell\n      result = self._run_cell(\n    File \"c:\\Users\\alber\\AppData\\Local\\Programs\\Python\\Python39\\lib\\site-packages\\IPython\\core\\interactiveshell.py\", line 2909, in _run_cell\n      return runner(coro)\n    File \"c:\\Users\\alber\\AppData\\Local\\Programs\\Python\\Python39\\lib\\site-packages\\IPython\\core\\async_helpers.py\", line 129, in _pseudo_sync_runner\n      coro.send(None)\n    File \"c:\\Users\\alber\\AppData\\Local\\Programs\\Python\\Python39\\lib\\site-packages\\IPython\\core\\interactiveshell.py\", line 3106, in run_cell_async\n      has_raised = await self.run_ast_nodes(code_ast.body, cell_name,\n    File \"c:\\Users\\alber\\AppData\\Local\\Programs\\Python\\Python39\\lib\\site-packages\\IPython\\core\\interactiveshell.py\", line 3309, in run_ast_nodes\n      if await self.run_code(code, result, async_=asy):\n    File \"c:\\Users\\alber\\AppData\\Local\\Programs\\Python\\Python39\\lib\\site-packages\\IPython\\core\\interactiveshell.py\", line 3369, in run_code\n      exec(code_obj, self.user_global_ns, self.user_ns)\n    File \"C:\\Users\\alber\\AppData\\Local\\Temp\\ipykernel_14364\\1972185710.py\", line 7, in <cell line: 7>\n      history = model.fit(x_train, y_train, validation_data=(x_test, y_test), epochs=30, callbacks=[csv_logger])\n    File \"c:\\Users\\alber\\AppData\\Local\\Programs\\Python\\Python39\\lib\\site-packages\\keras\\utils\\traceback_utils.py\", line 64, in error_handler\n      return fn(*args, **kwargs)\n    File \"c:\\Users\\alber\\AppData\\Local\\Programs\\Python\\Python39\\lib\\site-packages\\keras\\engine\\training.py\", line 1384, in fit\n      tmp_logs = self.train_function(iterator)\n    File \"c:\\Users\\alber\\AppData\\Local\\Programs\\Python\\Python39\\lib\\site-packages\\keras\\engine\\training.py\", line 1021, in train_function\n      return step_function(self, iterator)\n    File \"c:\\Users\\alber\\AppData\\Local\\Programs\\Python\\Python39\\lib\\site-packages\\keras\\engine\\training.py\", line 1010, in step_function\n      outputs = model.distribute_strategy.run(run_step, args=(data,))\n    File \"c:\\Users\\alber\\AppData\\Local\\Programs\\Python\\Python39\\lib\\site-packages\\keras\\engine\\training.py\", line 1000, in run_step\n      outputs = model.train_step(data)\n    File \"c:\\Users\\alber\\AppData\\Local\\Programs\\Python\\Python39\\lib\\site-packages\\keras\\engine\\training.py\", line 863, in train_step\n      self.optimizer.minimize(loss, self.trainable_variables, tape=tape)\n    File \"c:\\Users\\alber\\AppData\\Local\\Programs\\Python\\Python39\\lib\\site-packages\\keras\\optimizer_v2\\optimizer_v2.py\", line 530, in minimize\n      grads_and_vars = self._compute_gradients(\n    File \"c:\\Users\\alber\\AppData\\Local\\Programs\\Python\\Python39\\lib\\site-packages\\keras\\optimizer_v2\\optimizer_v2.py\", line 583, in _compute_gradients\n      grads_and_vars = self._get_gradients(tape, loss, var_list, grad_loss)\n    File \"c:\\Users\\alber\\AppData\\Local\\Programs\\Python\\Python39\\lib\\site-packages\\keras\\optimizer_v2\\optimizer_v2.py\", line 464, in _get_gradients\n      grads = tape.gradient(loss, var_list, grad_loss)\nNode: 'gradient_tape/model/max_pooling2d/MaxPool/MaxPoolGrad'\nOOM when allocating tensor with shape[32,126,126,16] and type float on /job:localhost/replica:0/task:0/device:CPU:0 by allocator cpu\n\t [[{{node gradient_tape/model/max_pooling2d/MaxPool/MaxPoolGrad}}]]\nHint: If you want to see a list of allocated tensors when OOM happens, add report_tensor_allocations_upon_oom to RunOptions for current allocation info. This isn't available when running in Eager mode.\n [Op:__inference_train_function_1028]"
     ]
    }
   ],
   "source": [
    "model.compile(optimizer='adam', loss='categorical_crossentropy', metrics=['accuracy'])\n",
    "\n",
    "from keras.callbacks import CSVLogger\n",
    "\n",
    "csv_logger = CSVLogger('training.log', separator = ',', append = False)\n",
    "\n",
    "history = model.fit(x_train, y_train, validation_data=(x_test, y_test), epochs=30, callbacks=[csv_logger])"
   ]
  },
  {
   "cell_type": "code",
   "execution_count": null,
   "metadata": {},
   "outputs": [
    {
     "name": "stdout",
     "output_type": "stream",
     "text": [
      "76/76 [==============================] - 12s 151ms/step - loss: 0.4767 - accuracy: 0.9557\n"
     ]
    },
    {
     "data": {
      "text/plain": [
       "[0.4766841232776642, 0.9556752443313599]"
      ]
     },
     "execution_count": 160,
     "metadata": {},
     "output_type": "execute_result"
    }
   ],
   "source": [
    "model.evaluate(x_test,y_test)"
   ]
  },
  {
   "cell_type": "code",
   "execution_count": null,
   "metadata": {},
   "outputs": [
    {
     "name": "stdout",
     "output_type": "stream",
     "text": [
      "              precision    recall  f1-score   support\n",
      "\n",
      "           0       0.99      0.99      0.99      3674\n",
      "           1       0.99      0.99      0.99      4070\n",
      "           2       0.99      0.99      0.99      4326\n",
      "\n",
      "    accuracy                           0.99     12070\n",
      "   macro avg       0.99      0.99      0.99     12070\n",
      "weighted avg       0.99      0.99      0.99     12070\n",
      "\n"
     ]
    }
   ],
   "source": [
    "# Print the accuracy of the model\n",
    "print(classification_report(np.argmax(new_label, axis=-1), np.argmax(model.predict(new_data), axis=-1)))"
   ]
  },
  {
   "cell_type": "code",
   "execution_count": null,
   "metadata": {},
   "outputs": [],
   "source": [
    "test = data[1].reshape(1, 128, 128, 3)"
   ]
  },
  {
   "cell_type": "code",
   "execution_count": null,
   "metadata": {},
   "outputs": [
    {
     "data": {
      "text/plain": [
       "array([[0., 0., 1.]], dtype=float32)"
      ]
     },
     "execution_count": 163,
     "metadata": {},
     "output_type": "execute_result"
    }
   ],
   "source": [
    "model.predict(test)"
   ]
  },
  {
   "cell_type": "code",
   "execution_count": null,
   "metadata": {},
   "outputs": [
    {
     "data": {
      "text/plain": [
       "array([2], dtype=int64)"
      ]
     },
     "execution_count": 164,
     "metadata": {},
     "output_type": "execute_result"
    }
   ],
   "source": [
    "np.argmax(model.predict(test), axis=-1)"
   ]
  },
  {
   "cell_type": "markdown",
   "metadata": {},
   "source": []
  },
  {
   "cell_type": "markdown",
   "metadata": {},
   "source": [
    "#### Save dan Load Model"
   ]
  },
  {
   "cell_type": "code",
   "execution_count": null,
   "metadata": {},
   "outputs": [],
   "source": [
    "## Save deep learning model\n",
    "model.save(\"cxr_model2.h5\")"
   ]
  },
  {
   "cell_type": "code",
   "execution_count": 31,
   "metadata": {},
   "outputs": [],
   "source": [
    "## Load the model\n",
    "# loaded_model = load_model(\"cxr_model.h5\")\n",
    "\n",
    "## Load the model\n",
    "# loaded_model = load_model(\"cxr_model1.h5\")\n",
    "\n",
    "## Load the model\n",
    "loaded_model = load_model(\"pcdWebsite\\cxr_model_cnn_fixed.h5\")"
   ]
  },
  {
   "cell_type": "code",
   "execution_count": 34,
   "metadata": {},
   "outputs": [],
   "source": [
    "loaded_model_vgg16 = load_model(\"pcdWebsite\\cxr_model_vgg16.h5\")"
   ]
  },
  {
   "cell_type": "code",
   "execution_count": 33,
   "metadata": {},
   "outputs": [
    {
     "name": "stdout",
     "output_type": "stream",
     "text": [
      "              precision    recall  f1-score   support\n",
      "\n",
      "           0       0.99      0.99      0.99      3674\n",
      "           1       0.99      0.99      0.99      4326\n",
      "           2       0.99      0.99      0.99      4326\n",
      "\n",
      "    accuracy                           0.99     12326\n",
      "   macro avg       0.99      0.99      0.99     12326\n",
      "weighted avg       0.99      0.99      0.99     12326\n",
      "\n"
     ]
    }
   ],
   "source": [
    "# Print the accuracy of the model CNN\n",
    "print(classification_report(np.argmax(new_label, axis=-1), np.argmax(loaded_model.predict(new_data), axis=-1)))"
   ]
  },
  {
   "cell_type": "code",
   "execution_count": 36,
   "metadata": {},
   "outputs": [],
   "source": [
    "# Print the accuracy of the model VGG 16\n",
    "print(classification_report(np.argmax(new_label, axis=-1), np.argmax(loaded_model_vgg16.predict(new_data), axis=-1)))"
   ]
  },
  {
   "cell_type": "code",
   "execution_count": 30,
   "metadata": {},
   "outputs": [
    {
     "name": "stdout",
     "output_type": "stream",
     "text": [
      "Model: \"model_1\"\n",
      "_________________________________________________________________\n",
      " Layer (type)                Output Shape              Param #   \n",
      "=================================================================\n",
      " input_2 (InputLayer)        [(None, 128, 128, 3)]     0         \n",
      "                                                                 \n",
      " conv2d_4 (Conv2D)           (None, 126, 126, 16)      448       \n",
      "                                                                 \n",
      " max_pooling2d_4 (MaxPooling  (None, 63, 63, 16)       0         \n",
      " 2D)                                                             \n",
      "                                                                 \n",
      " conv2d_5 (Conv2D)           (None, 61, 61, 32)        4640      \n",
      "                                                                 \n",
      " max_pooling2d_5 (MaxPooling  (None, 30, 30, 32)       0         \n",
      " 2D)                                                             \n",
      "                                                                 \n",
      " conv2d_6 (Conv2D)           (None, 28, 28, 64)        18496     \n",
      "                                                                 \n",
      " max_pooling2d_6 (MaxPooling  (None, 14, 14, 64)       0         \n",
      " 2D)                                                             \n",
      "                                                                 \n",
      " conv2d_7 (Conv2D)           (None, 12, 12, 256)       147712    \n",
      "                                                                 \n",
      " max_pooling2d_7 (MaxPooling  (None, 6, 6, 256)        0         \n",
      " 2D)                                                             \n",
      "                                                                 \n",
      " flatten_1 (Flatten)         (None, 9216)              0         \n",
      "                                                                 \n",
      " dense_2 (Dense)             (None, 128)               1179776   \n",
      "                                                                 \n",
      " dense_3 (Dense)             (None, 3)                 387       \n",
      "                                                                 \n",
      "=================================================================\n",
      "Total params: 1,351,459\n",
      "Trainable params: 1,351,459\n",
      "Non-trainable params: 0\n",
      "_________________________________________________________________\n"
     ]
    }
   ],
   "source": [
    "loaded_model.summary()"
   ]
  },
  {
   "cell_type": "code",
   "execution_count": 35,
   "metadata": {},
   "outputs": [
    {
     "name": "stdout",
     "output_type": "stream",
     "text": [
      "78/78 [==============================] - 53s 605ms/step - loss: 0.1681 - accuracy: 0.9870\n"
     ]
    },
    {
     "data": {
      "text/plain": [
       "[0.16813704371452332, 0.9870235323905945]"
      ]
     },
     "execution_count": 35,
     "metadata": {},
     "output_type": "execute_result"
    }
   ],
   "source": [
    "## Test the loaded model again\n",
    "loaded_model.evaluate(x_test,y_test)"
   ]
  },
  {
   "cell_type": "code",
   "execution_count": 36,
   "metadata": {},
   "outputs": [
    {
     "data": {
      "text/plain": [
       "array([[0., 0., 1.],\n",
       "       [0., 0., 1.],\n",
       "       [0., 1., 0.],\n",
       "       ...,\n",
       "       [0., 1., 0.],\n",
       "       [0., 1., 0.],\n",
       "       [0., 1., 0.]], dtype=float32)"
      ]
     },
     "execution_count": 36,
     "metadata": {},
     "output_type": "execute_result"
    }
   ],
   "source": [
    "new_label"
   ]
  },
  {
   "cell_type": "code",
   "execution_count": 37,
   "metadata": {},
   "outputs": [
    {
     "data": {
      "text/plain": [
       "array([[[[0.08235294, 0.08235294, 0.08235294],\n",
       "         [0.0627451 , 0.0627451 , 0.0627451 ],\n",
       "         [0.05490196, 0.05490196, 0.05490196],\n",
       "         ...,\n",
       "         [0.04705882, 0.04705882, 0.04705882],\n",
       "         [0.04705882, 0.04705882, 0.04705882],\n",
       "         [0.05490196, 0.05490196, 0.05490196]],\n",
       "\n",
       "        [[0.05882353, 0.05882353, 0.05882353],\n",
       "         [0.05490196, 0.05490196, 0.05490196],\n",
       "         [0.04705882, 0.04705882, 0.04705882],\n",
       "         ...,\n",
       "         [0.04705882, 0.04705882, 0.04705882],\n",
       "         [0.05098039, 0.05098039, 0.05098039],\n",
       "         [0.0627451 , 0.0627451 , 0.0627451 ]],\n",
       "\n",
       "        [[0.05882353, 0.05882353, 0.05882353],\n",
       "         [0.05882353, 0.05882353, 0.05882353],\n",
       "         [0.04705882, 0.04705882, 0.04705882],\n",
       "         ...,\n",
       "         [0.04705882, 0.04705882, 0.04705882],\n",
       "         [0.05098039, 0.05098039, 0.05098039],\n",
       "         [0.05882353, 0.05882353, 0.05882353]],\n",
       "\n",
       "        ...,\n",
       "\n",
       "        [[0.01960784, 0.01960784, 0.01960784],\n",
       "         [0.01960784, 0.01960784, 0.01960784],\n",
       "         [0.01568627, 0.01568627, 0.01568627],\n",
       "         ...,\n",
       "         [0.40784314, 0.40784314, 0.40784314],\n",
       "         [0.33333333, 0.33333333, 0.33333333],\n",
       "         [0.28235294, 0.28235294, 0.28235294]],\n",
       "\n",
       "        [[0.01960784, 0.01960784, 0.01960784],\n",
       "         [0.02352941, 0.02352941, 0.02352941],\n",
       "         [0.01960784, 0.01960784, 0.01960784],\n",
       "         ...,\n",
       "         [0.39215686, 0.39215686, 0.39215686],\n",
       "         [0.34901961, 0.34901961, 0.34901961],\n",
       "         [0.25882353, 0.25882353, 0.25882353]],\n",
       "\n",
       "        [[0.01960784, 0.01960784, 0.01960784],\n",
       "         [0.02352941, 0.02352941, 0.02352941],\n",
       "         [0.02352941, 0.02352941, 0.02352941],\n",
       "         ...,\n",
       "         [0.45098039, 0.45098039, 0.45098039],\n",
       "         [0.35294118, 0.35294118, 0.35294118],\n",
       "         [0.30980392, 0.30980392, 0.30980392]]],\n",
       "\n",
       "\n",
       "       [[[0.21568627, 0.21568627, 0.21568627],\n",
       "         [0.15294118, 0.15294118, 0.15294118],\n",
       "         [0.09803922, 0.09803922, 0.09803922],\n",
       "         ...,\n",
       "         [0.05098039, 0.05098039, 0.05098039],\n",
       "         [0.05490196, 0.05490196, 0.05490196],\n",
       "         [0.07843137, 0.07843137, 0.07843137]],\n",
       "\n",
       "        [[0.14509804, 0.14509804, 0.14509804],\n",
       "         [0.1254902 , 0.1254902 , 0.1254902 ],\n",
       "         [0.08235294, 0.08235294, 0.08235294],\n",
       "         ...,\n",
       "         [0.05098039, 0.05098039, 0.05098039],\n",
       "         [0.05882353, 0.05882353, 0.05882353],\n",
       "         [0.07843137, 0.07843137, 0.07843137]],\n",
       "\n",
       "        [[0.11764706, 0.11764706, 0.11764706],\n",
       "         [0.15686275, 0.15686275, 0.15686275],\n",
       "         [0.08235294, 0.08235294, 0.08235294],\n",
       "         ...,\n",
       "         [0.05490196, 0.05490196, 0.05490196],\n",
       "         [0.05490196, 0.05490196, 0.05490196],\n",
       "         [0.0745098 , 0.0745098 , 0.0745098 ]],\n",
       "\n",
       "        ...,\n",
       "\n",
       "        [[0.34901961, 0.34901961, 0.34901961],\n",
       "         [0.30588235, 0.30588235, 0.30588235],\n",
       "         [0.29411765, 0.29411765, 0.29411765],\n",
       "         ...,\n",
       "         [0.01176471, 0.01176471, 0.01176471],\n",
       "         [0.01568627, 0.01568627, 0.01568627],\n",
       "         [0.02745098, 0.02745098, 0.02745098]],\n",
       "\n",
       "        [[0.31372549, 0.31372549, 0.31372549],\n",
       "         [0.30588235, 0.30588235, 0.30588235],\n",
       "         [0.30980392, 0.30980392, 0.30980392],\n",
       "         ...,\n",
       "         [0.01176471, 0.01176471, 0.01176471],\n",
       "         [0.01960784, 0.01960784, 0.01960784],\n",
       "         [0.02745098, 0.02745098, 0.02745098]],\n",
       "\n",
       "        [[0.3372549 , 0.3372549 , 0.3372549 ],\n",
       "         [0.34901961, 0.34901961, 0.34901961],\n",
       "         [0.33333333, 0.33333333, 0.33333333],\n",
       "         ...,\n",
       "         [0.01568627, 0.01568627, 0.01568627],\n",
       "         [0.02745098, 0.02745098, 0.02745098],\n",
       "         [0.04313725, 0.04313725, 0.04313725]]],\n",
       "\n",
       "\n",
       "       [[[0.10588235, 0.10588235, 0.10588235],\n",
       "         [0.06666667, 0.06666667, 0.06666667],\n",
       "         [0.05490196, 0.05490196, 0.05490196],\n",
       "         ...,\n",
       "         [0.04705882, 0.04705882, 0.04705882],\n",
       "         [0.04705882, 0.04705882, 0.04705882],\n",
       "         [0.05882353, 0.05882353, 0.05882353]],\n",
       "\n",
       "        [[0.10980392, 0.10980392, 0.10980392],\n",
       "         [0.06666667, 0.06666667, 0.06666667],\n",
       "         [0.05098039, 0.05098039, 0.05098039],\n",
       "         ...,\n",
       "         [0.03921569, 0.03921569, 0.03921569],\n",
       "         [0.03529412, 0.03529412, 0.03529412],\n",
       "         [0.03529412, 0.03529412, 0.03529412]],\n",
       "\n",
       "        [[0.08235294, 0.08235294, 0.08235294],\n",
       "         [0.0627451 , 0.0627451 , 0.0627451 ],\n",
       "         [0.05098039, 0.05098039, 0.05098039],\n",
       "         ...,\n",
       "         [0.03137255, 0.03137255, 0.03137255],\n",
       "         [0.03137255, 0.03137255, 0.03137255],\n",
       "         [0.04313725, 0.04313725, 0.04313725]],\n",
       "\n",
       "        ...,\n",
       "\n",
       "        [[0.45098039, 0.45098039, 0.45098039],\n",
       "         [0.31372549, 0.31372549, 0.31372549],\n",
       "         [0.21960784, 0.21960784, 0.21960784],\n",
       "         ...,\n",
       "         [0.45098039, 0.45098039, 0.45098039],\n",
       "         [0.39607843, 0.39607843, 0.39607843],\n",
       "         [0.09019608, 0.09019608, 0.09019608]],\n",
       "\n",
       "        [[0.46666667, 0.46666667, 0.46666667],\n",
       "         [0.29803922, 0.29803922, 0.29803922],\n",
       "         [0.22745098, 0.22745098, 0.22745098],\n",
       "         ...,\n",
       "         [0.47843137, 0.47843137, 0.47843137],\n",
       "         [0.37254902, 0.37254902, 0.37254902],\n",
       "         [0.02352941, 0.02352941, 0.02352941]],\n",
       "\n",
       "        [[0.46666667, 0.46666667, 0.46666667],\n",
       "         [0.36470588, 0.36470588, 0.36470588],\n",
       "         [0.29019608, 0.29019608, 0.29019608],\n",
       "         ...,\n",
       "         [0.5254902 , 0.5254902 , 0.5254902 ],\n",
       "         [0.29019608, 0.29019608, 0.29019608],\n",
       "         [0.05490196, 0.05490196, 0.05490196]]],\n",
       "\n",
       "\n",
       "       ...,\n",
       "\n",
       "\n",
       "       [[[0.29803922, 0.29803922, 0.29803922],\n",
       "         [0.31372549, 0.31372549, 0.31372549],\n",
       "         [0.48235294, 0.48235294, 0.48235294],\n",
       "         ...,\n",
       "         [0.29803922, 0.29803922, 0.29803922],\n",
       "         [0.28627451, 0.28627451, 0.28627451],\n",
       "         [0.24705882, 0.24705882, 0.24705882]],\n",
       "\n",
       "        [[0.28627451, 0.28627451, 0.28627451],\n",
       "         [0.31372549, 0.31372549, 0.31372549],\n",
       "         [0.40392157, 0.40392157, 0.40392157],\n",
       "         ...,\n",
       "         [0.29803922, 0.29803922, 0.29803922],\n",
       "         [0.28235294, 0.28235294, 0.28235294],\n",
       "         [0.24705882, 0.24705882, 0.24705882]],\n",
       "\n",
       "        [[0.29019608, 0.29019608, 0.29019608],\n",
       "         [0.31372549, 0.31372549, 0.31372549],\n",
       "         [0.35686275, 0.35686275, 0.35686275],\n",
       "         ...,\n",
       "         [0.30588235, 0.30588235, 0.30588235],\n",
       "         [0.2745098 , 0.2745098 , 0.2745098 ],\n",
       "         [0.25098039, 0.25098039, 0.25098039]],\n",
       "\n",
       "        ...,\n",
       "\n",
       "        [[0.        , 0.        , 0.        ],\n",
       "         [0.        , 0.        , 0.        ],\n",
       "         [0.        , 0.        , 0.        ],\n",
       "         ...,\n",
       "         [0.        , 0.        , 0.        ],\n",
       "         [0.        , 0.        , 0.        ],\n",
       "         [0.        , 0.        , 0.        ]],\n",
       "\n",
       "        [[0.        , 0.        , 0.        ],\n",
       "         [0.        , 0.        , 0.        ],\n",
       "         [0.        , 0.        , 0.        ],\n",
       "         ...,\n",
       "         [0.        , 0.        , 0.        ],\n",
       "         [0.        , 0.        , 0.        ],\n",
       "         [0.        , 0.        , 0.        ]],\n",
       "\n",
       "        [[0.        , 0.        , 0.        ],\n",
       "         [0.        , 0.        , 0.        ],\n",
       "         [0.        , 0.        , 0.        ],\n",
       "         ...,\n",
       "         [0.        , 0.        , 0.        ],\n",
       "         [0.        , 0.        , 0.        ],\n",
       "         [0.        , 0.        , 0.        ]]],\n",
       "\n",
       "\n",
       "       [[[0.14509804, 0.14509804, 0.14509804],\n",
       "         [0.18039216, 0.18039216, 0.18039216],\n",
       "         [0.22352941, 0.22352941, 0.22352941],\n",
       "         ...,\n",
       "         [0.01568627, 0.01568627, 0.01568627],\n",
       "         [0.        , 0.        , 0.        ],\n",
       "         [0.        , 0.        , 0.        ]],\n",
       "\n",
       "        [[0.13333333, 0.13333333, 0.13333333],\n",
       "         [0.16470588, 0.16470588, 0.16470588],\n",
       "         [0.19607843, 0.19607843, 0.19607843],\n",
       "         ...,\n",
       "         [0.00392157, 0.00392157, 0.00392157],\n",
       "         [0.        , 0.        , 0.        ],\n",
       "         [0.        , 0.        , 0.        ]],\n",
       "\n",
       "        [[0.11764706, 0.11764706, 0.11764706],\n",
       "         [0.15686275, 0.15686275, 0.15686275],\n",
       "         [0.19215686, 0.19215686, 0.19215686],\n",
       "         ...,\n",
       "         [0.        , 0.        , 0.        ],\n",
       "         [0.        , 0.        , 0.        ],\n",
       "         [0.        , 0.        , 0.        ]],\n",
       "\n",
       "        ...,\n",
       "\n",
       "        [[0.        , 0.        , 0.        ],\n",
       "         [0.        , 0.        , 0.        ],\n",
       "         [0.        , 0.        , 0.        ],\n",
       "         ...,\n",
       "         [0.        , 0.        , 0.        ],\n",
       "         [0.        , 0.        , 0.        ],\n",
       "         [0.        , 0.        , 0.        ]],\n",
       "\n",
       "        [[0.        , 0.        , 0.        ],\n",
       "         [0.        , 0.        , 0.        ],\n",
       "         [0.        , 0.        , 0.        ],\n",
       "         ...,\n",
       "         [0.        , 0.        , 0.        ],\n",
       "         [0.        , 0.        , 0.        ],\n",
       "         [0.        , 0.        , 0.        ]],\n",
       "\n",
       "        [[0.        , 0.        , 0.        ],\n",
       "         [0.        , 0.        , 0.        ],\n",
       "         [0.        , 0.        , 0.        ],\n",
       "         ...,\n",
       "         [0.        , 0.        , 0.        ],\n",
       "         [0.        , 0.        , 0.        ],\n",
       "         [0.        , 0.        , 0.        ]]],\n",
       "\n",
       "\n",
       "       [[[0.10196078, 0.10196078, 0.10196078],\n",
       "         [0.13333333, 0.13333333, 0.13333333],\n",
       "         [0.15686275, 0.15686275, 0.15686275],\n",
       "         ...,\n",
       "         [0.14901961, 0.14901961, 0.14901961],\n",
       "         [0.12156863, 0.12156863, 0.12156863],\n",
       "         [0.08235294, 0.08235294, 0.08235294]],\n",
       "\n",
       "        [[0.09019608, 0.09019608, 0.09019608],\n",
       "         [0.1254902 , 0.1254902 , 0.1254902 ],\n",
       "         [0.14901961, 0.14901961, 0.14901961],\n",
       "         ...,\n",
       "         [0.1372549 , 0.1372549 , 0.1372549 ],\n",
       "         [0.11372549, 0.11372549, 0.11372549],\n",
       "         [0.07843137, 0.07843137, 0.07843137]],\n",
       "\n",
       "        [[0.08235294, 0.08235294, 0.08235294],\n",
       "         [0.11372549, 0.11372549, 0.11372549],\n",
       "         [0.14117647, 0.14117647, 0.14117647],\n",
       "         ...,\n",
       "         [0.13333333, 0.13333333, 0.13333333],\n",
       "         [0.10588235, 0.10588235, 0.10588235],\n",
       "         [0.07058824, 0.07058824, 0.07058824]],\n",
       "\n",
       "        ...,\n",
       "\n",
       "        [[0.        , 0.        , 0.        ],\n",
       "         [0.        , 0.        , 0.        ],\n",
       "         [0.        , 0.        , 0.        ],\n",
       "         ...,\n",
       "         [0.        , 0.        , 0.        ],\n",
       "         [0.        , 0.        , 0.        ],\n",
       "         [0.        , 0.        , 0.        ]],\n",
       "\n",
       "        [[0.        , 0.        , 0.        ],\n",
       "         [0.        , 0.        , 0.        ],\n",
       "         [0.        , 0.        , 0.        ],\n",
       "         ...,\n",
       "         [0.        , 0.        , 0.        ],\n",
       "         [0.        , 0.        , 0.        ],\n",
       "         [0.        , 0.        , 0.        ]],\n",
       "\n",
       "        [[0.        , 0.        , 0.        ],\n",
       "         [0.        , 0.        , 0.        ],\n",
       "         [0.        , 0.        , 0.        ],\n",
       "         ...,\n",
       "         [0.        , 0.        , 0.        ],\n",
       "         [0.        , 0.        , 0.        ],\n",
       "         [0.        , 0.        , 0.        ]]]])"
      ]
     },
     "execution_count": 37,
     "metadata": {},
     "output_type": "execute_result"
    }
   ],
   "source": [
    "new_data"
   ]
  },
  {
   "cell_type": "markdown",
   "metadata": {},
   "source": [
    "#### Confusion Matrix"
   ]
  },
  {
   "cell_type": "code",
   "execution_count": 38,
   "metadata": {},
   "outputs": [],
   "source": [
    "## Predict Label\n",
    "y_predict = loaded_model.predict(x_test)\n",
    "\n",
    "## Ground Truth Label\n",
    "y_true = y_test"
   ]
  },
  {
   "cell_type": "code",
   "execution_count": 63,
   "metadata": {},
   "outputs": [],
   "source": [
    "## Confusion Matrix\n",
    "\n",
    "from sklearn.metrics import confusion_matrix\n",
    "\n",
    "res = confusion_matrix(np.argmax(y_true, axis = 1),np.argmax(y_predict, axis = 1))"
   ]
  },
  {
   "cell_type": "code",
   "execution_count": 64,
   "metadata": {},
   "outputs": [
    {
     "data": {
      "text/plain": [
       "array([[718,   6,   1],\n",
       "       [  5, 835,   9],\n",
       "       [  5,   6, 881]], dtype=int64)"
      ]
     },
     "execution_count": 64,
     "metadata": {},
     "output_type": "execute_result"
    }
   ],
   "source": [
    "res"
   ]
  },
  {
   "cell_type": "code",
   "execution_count": 124,
   "metadata": {},
   "outputs": [
    {
     "name": "stdout",
     "output_type": "stream",
     "text": [
      "0.9903448275862069\n",
      "0.008275862068965517\n",
      "0.001379310344827586\n",
      "0.005889281507656066\n",
      "0.983510011778563\n",
      "0.01060070671378092\n",
      "0.005605381165919282\n",
      "0.006726457399103139\n",
      "0.9876681614349776\n"
     ]
    }
   ],
   "source": [
    "class_label = [\"Covid-19\", \"No Finding\", \"Pneumonia\"]\n",
    "\n",
    "# Bottom Description of Heatmap refer to accuraction each labels\n",
    "\n",
    "score = []\n",
    "\n",
    "for i in range(0, len(class_label)) :\n",
    "    for j in range(0, len(class_label)):\n",
    "        temp = res[i][j] / sum(res[i])\n",
    "        print(temp)\n",
    "        score.append(temp)\n",
    "\n",
    "score = np.asarray(score).reshape(3,3)\n"
   ]
  },
  {
   "cell_type": "code",
   "execution_count": 167,
   "metadata": {},
   "outputs": [
    {
     "data": {
      "image/png": "[encoded data removed]",
      "text/plain": [
       "<Figure size 432x288 with 2 Axes>"
      ]
     },
     "metadata": {
      "needs_background": "light"
     },
     "output_type": "display_data"
    }
   ],
   "source": [
    "## Heatmap \n",
    "\n",
    "\n",
    "plot = plt.axes()\n",
    "sns.heatmap(res, ax = plot, annot= score, fmt=\".2f\", annot_kws={'va':'top'}, xticklabels= class_label , yticklabels= class_label, cbar = True, vmin=0, vmax=1)\n",
    "sns.heatmap(res, ax = plot, annot= True, fmt=\".0f\", annot_kws={'va':'bottom'}, xticklabels= class_label , yticklabels= class_label, cbar= False).set(xlabel='Predicted Label', ylabel='True Label')\n",
    "plot.set_title('Confusion Matrix')\n",
    "plt.show()\n"
   ]
  },
  {
   "cell_type": "code",
   "execution_count": null,
   "metadata": {},
   "outputs": [],
   "source": [
    "class_label = [\"Covid-19\", \"No Finding\", \"Pneumonia\"]"
   ]
  },
  {
   "cell_type": "markdown",
   "metadata": {},
   "source": [
    "#### Validation Loss"
   ]
  },
  {
   "cell_type": "code",
   "execution_count": null,
   "metadata": {},
   "outputs": [],
   "source": [
    "acc = history.history['accuracy']\n",
    "val_acc = history.history['val_accuracy']\n",
    "loss = history.history['loss']\n",
    "val_loss = history.history['val_loss']\n",
    "epochs_range = range(epochs)\n",
    "plt.figure(figsize=(8, 8))\n",
    "plt.subplot(1, 2, 1)\n",
    "plt.plot(epochs_range, acc, label='Training Accuracy')\n",
    "plt.plot(epochs_range, val_acc, label='Validation Accuracy')\n",
    "plt.legend(loc='lower right')\n",
    "plt.title('CNN Accuracy')\n",
    "plt.subplot(1, 2, 2)\n",
    "plt.plot(epochs_range, loss, label='Training Loss')\n",
    "plt.plot(epochs_range, val_loss, label='Validation Loss')\n",
    "plt.legend(loc='upper right')\n",
    "plt.title('CNN LOSS')\n",
    "plt.show()"
   ]
  },
  {
   "cell_type": "code",
   "execution_count": null,
   "metadata": {},
   "outputs": [],
   "source": [
    "## For Predict the Image\n",
    "%matplotlib inline\n",
    "from google.colab import file\n",
    " \n",
    "uploaded = file.upload()\n",
    " \n",
    "for fn in uploaded.keys():\n",
    "\n",
    "  path = fn\n",
    "  img = cv2.imread(path)\n",
    "  img = cv2.cvtColor(img, cv2.COLOR_BGR2RGB)\n",
    "  img = cv2.resize(img, (128, 128))\n",
    "\n",
    "img = img.reshape(1, 128, 128, 3)\n",
    "\n",
    "print(fn)\n",
    "\n",
    "plt.imshow(img.reshape(128,128,3))\n",
    "plt.xticks([])\n",
    "plt.yticks([])\n",
    "plt.grid(False)\n",
    "plt.title(class_label[np.argmax(model.predict(img))])\n",
    "plt.show()"
   ]
  }
 ],
 "metadata": {
  "interpreter": {
   "hash": "618bbadb9914128447fd922d1e72f950848015c2c5a2940f9918db08be8e0dec"
  },
  "kernelspec": {
   "display_name": "Python 3.9.5 64-bit",
   "language": "python",
   "name": "python3"
  },
  "language_info": {
   "codemirror_mode": {
    "name": "ipython",
    "version": 3
   },
   "file_extension": ".py",
   "mimetype": "text/x-python",
   "name": "python",
   "nbconvert_exporter": "python",
   "pygments_lexer": "ipython3",
   "version": "3.9.5"
  },
  "orig_nbformat": 4
 },
 "nbformat": 4,
 "nbformat_minor": 2
}
