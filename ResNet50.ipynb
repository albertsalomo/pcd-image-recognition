{
 "cells": [
  {
   "cell_type": "markdown",
   "metadata": {},
   "source": [
    "# Pendeteksi penyakit paru-paru menggunakan Deep-Multi-Layered CNN"
   ]
  },
  {
   "cell_type": "markdown",
   "metadata": {},
   "source": [
    "#### Dataset"
   ]
  },
  {
   "cell_type": "markdown",
   "metadata": {},
   "source": [
    "(Google Drive)\n",
    "> https://drive.google.com/drive/folders/1oAJUw2UChrYMqUwLB8F-4RuX19WoeqsN?usp=sharing\n",
    "\n",
    "(covid-chestxray-dataset)\n",
    "> https://github.com/ieee8023/covid-chestxray-dataset\n",
    "\n",
    "\n",
    "(Actualmed-COVID-chestxray-dataset)\n",
    "> https://github.com/agchung/Actualmed-COVID-chestxray-dataset\n",
    "\n",
    "(Kaggle Chest X-Ray Images (Pneumonia))\n",
    "> https://www.kaggle.com/paultimothymooney/chest-xray-pneumonia"
   ]
  },
  {
   "cell_type": "markdown",
   "metadata": {},
   "source": [
    "##### Penggunaan Library "
   ]
  },
  {
   "cell_type": "markdown",
   "metadata": {},
   "source": [
    "###### Library yang digunakan pada project ini sebagai berikut:\n",
    "###### 1. tensorflow : untuk penggunaan deep learning\n",
    "###### 2. glob : untuk penggunaan array\n",
    "###### 3. numpy : untuk membuat objek kelas array tunggal dan multidimensi\n",
    "###### 4. pandas : untuk mengatur tata letak data supaya mudah dicari\n",
    "###### 5. tqdm : untuk menampilkan progress bar dengan perulangan yang sederhana\n",
    "###### 6. opencv : untuk preprocessing data gambar \n",
    "###### 7. matplotlib : untuk visualisasi data\n",
    "###### 8. scikitlearn-labelEncoder : untuk pre-processing dalam penamaan label setiap data\n",
    "###### 9. scikitlearn-train_test_split : untuk pre-processing dalam pembagian data training dan testing\n",
    "###### 10. keras : untuk penggunaan model deep learning"
   ]
  },
  {
   "cell_type": "code",
   "execution_count": 57,
   "metadata": {},
   "outputs": [],
   "source": [
    "#Library\n",
    "import tensorflow as tf\n",
    "import glob \n",
    "import numpy as np\n",
    "import pandas as pd\n",
    "import os\n",
    "from tqdm import tqdm\n",
    "import cv2\n",
    "import matplotlib.pyplot as plt\n",
    "from sklearn.preprocessing import LabelEncoder\n",
    "from keras.layers import BatchNormalization, Flatten, Input, concatenate\n",
    "from keras.layers.convolutional import Conv2D, MaxPooling2D, AveragePooling2D\n",
    "from keras.models import load_model\n",
    "from keras.layers.core import Activation, Dense, Dropout\n",
    "from sklearn.model_selection import train_test_split\n",
    "from sklearn.metrics import classification_report\n",
    "from keras.models import Model\n",
    "from joblib import dump\n",
    "le = LabelEncoder()"
   ]
  },
  {
   "cell_type": "markdown",
   "metadata": {},
   "source": [
    "##### Directory local dataset"
   ]
  },
  {
   "cell_type": "code",
   "execution_count": 124,
   "metadata": {},
   "outputs": [],
   "source": [
    "# Actuamed Dir Local ALbert\n",
    "# path = \"C:\\\\Users\\\\alber\\\\Desktop\\\\Semester 6\\\\Pengolahan Citra Digital\\\\Python\\Actualmed-COVID-chestxray-dataset-master\"\n",
    "\n",
    "# Actumed Dir Local Jessica\n",
    "path = \"F:\\Backup Data\\KULIAH KELAS\\SEMESTER 6\\9. Pengolahan Citra\\Project Akhir\\Actualmed-COVID-chestxray-dataset-master-20220416T062843Z-001\\Actualmed-COVID-chestxray-dataset-master\""
   ]
  },
  {
   "cell_type": "code",
   "execution_count": 125,
   "metadata": {},
   "outputs": [],
   "source": [
    "# Kaggle Dir Local Albert\n",
    "# path2 = \"C:\\\\Users\\\\alber\\\\Desktop\\\\Semester 6\\\\Pengolahan Citra Digital\\\\Python\\kaggle\"\n",
    "\n",
    "# Kaggle Dir Local Jessica\n",
    "path2 = \"F:\\Backup Data\\KULIAH KELAS\\SEMESTER 6\\9. Pengolahan Citra\\Project Akhir\\kaggle-20220416T062842Z-001\\kaggle\"\n"
   ]
  },
  {
   "cell_type": "code",
   "execution_count": 126,
   "metadata": {},
   "outputs": [],
   "source": [
    "# Kaggle COVID Dir Local Jessica\n",
    "path3 = \"F:\\Backup Data\\KULIAH KELAS\\SEMESTER 6\\9. Pengolahan Citra\\Project Akhir\\Kaggle Radiography\"\n"
   ]
  },
  {
   "cell_type": "markdown",
   "metadata": {},
   "source": [
    "#### Pemberian label "
   ]
  },
  {
   "cell_type": "markdown",
   "metadata": {},
   "source": [
    "###### Label pada data kaggle untuk Normal dan Pneumonia"
   ]
  },
  {
   "cell_type": "code",
   "execution_count": 128,
   "metadata": {},
   "outputs": [],
   "source": [
    "## Label for Kaggle Dataset\n",
    "class_label_kaggle = [\"NORMAL\",\"PNEUMONIA\"]\n",
    "le.fit(class_label_kaggle)\n",
    "class_names_label = {class_label_kaggle:i for i, class_label_kaggle in enumerate(class_label_kaggle)}\n",
    "class_labelname_kaggle = le.transform(class_label_kaggle)"
   ]
  },
  {
   "cell_type": "markdown",
   "metadata": {},
   "source": [
    "###### Label pada data kaggle untuk COVID dan Normal"
   ]
  },
  {
   "cell_type": "code",
   "execution_count": 129,
   "metadata": {},
   "outputs": [],
   "source": [
    "## Label for Kaggle Radiography Dataset\n",
    "class_label_kaggle_radiography = [\"COVID\", \"NORMAL\"]\n",
    "le.fit(class_label_kaggle_radiography)\n",
    "class_names_label_kaggle_radiography = {class_label_kaggle_radiography:i for i, class_label_kaggle_radiography in enumerate(class_label_kaggle_radiography)}\n",
    "class_labelname_kaggle_radiography = le.transform(class_label_kaggle_radiography)"
   ]
  },
  {
   "cell_type": "code",
   "execution_count": 130,
   "metadata": {},
   "outputs": [
    {
     "data": {
      "text/plain": [
       "{'NORMAL': 0, 'PNEUMONIA': 1}"
      ]
     },
     "execution_count": 130,
     "metadata": {},
     "output_type": "execute_result"
    }
   ],
   "source": [
    "class_names_label"
   ]
  },
  {
   "cell_type": "code",
   "execution_count": 131,
   "metadata": {},
   "outputs": [
    {
     "data": {
      "text/plain": [
       "{'COVID': 0, 'NORMAL': 1}"
      ]
     },
     "execution_count": 131,
     "metadata": {},
     "output_type": "execute_result"
    }
   ],
   "source": [
    "class_names_label_kaggle_radiography"
   ]
  },
  {
   "cell_type": "code",
   "execution_count": 132,
   "metadata": {},
   "outputs": [
    {
     "data": {
      "text/plain": [
       "['NORMAL', 'PNEUMONIA']"
      ]
     },
     "execution_count": 132,
     "metadata": {},
     "output_type": "execute_result"
    }
   ],
   "source": [
    "os.listdir(path2)"
   ]
  },
  {
   "cell_type": "code",
   "execution_count": 133,
   "metadata": {},
   "outputs": [
    {
     "data": {
      "text/plain": [
       "['COVID', 'NORMAL']"
      ]
     },
     "execution_count": 133,
     "metadata": {},
     "output_type": "execute_result"
    }
   ],
   "source": [
    "os.listdir(path3)"
   ]
  },
  {
   "cell_type": "markdown",
   "metadata": {},
   "source": [
    "####  Preprocessing data"
   ]
  },
  {
   "cell_type": "code",
   "execution_count": 134,
   "metadata": {},
   "outputs": [
    {
     "name": "stdout",
     "output_type": "stream",
     "text": [
      "Loading F:\\Backup Data\\KULIAH KELAS\\SEMESTER 6\\9. Pengolahan Citra\\Project Akhir\\kaggle-20220416T062842Z-001\\kaggle\n",
      "NORMAL\n"
     ]
    },
    {
     "name": "stderr",
     "output_type": "stream",
     "text": [
      "100%|██████████| 1306/1306 [02:17<00:00,  9.51it/s]\n"
     ]
    },
    {
     "name": "stdout",
     "output_type": "stream",
     "text": [
      "PNEUMONIA\n"
     ]
    },
    {
     "name": "stderr",
     "output_type": "stream",
     "text": [
      "100%|██████████| 4273/4273 [04:55<00:00, 14.46it/s]\n"
     ]
    }
   ],
   "source": [
    "# Making label for kaggle dataset\n",
    "images1 = []\n",
    "labels1 = []\n",
    "print(\"Loading {}\".format(path2))\n",
    "for folder in os.listdir(path2):\n",
    "    label = class_names_label[folder]\n",
    "    print(folder)\n",
    "    for file in tqdm(os.listdir(os.path.join(path2, folder))):\n",
    "        img_path = os.path.join(os.path.join(path2, folder), file)\n",
    "        image = cv2.imread(img_path)\n",
    "        image = cv2.cvtColor(image, cv2.COLOR_BGR2RGB)\n",
    "        image = cv2.resize(image, (128, 128))\n",
    "        images1.append(image)\n",
    "        labels1.append(label)\n",
    "images1 = np.array(images1, dtype = 'float32')\n",
    "labels1 = np.array(labels1, dtype = 'int32')"
   ]
  },
  {
   "cell_type": "code",
   "execution_count": 135,
   "metadata": {},
   "outputs": [
    {
     "name": "stdout",
     "output_type": "stream",
     "text": [
      "Loading F:\\Backup Data\\KULIAH KELAS\\SEMESTER 6\\9. Pengolahan Citra\\Project Akhir\\Kaggle Radiography\n",
      "COVID\n"
     ]
    },
    {
     "name": "stderr",
     "output_type": "stream",
     "text": [
      "100%|██████████| 3616/3616 [00:33<00:00, 108.54it/s]\n"
     ]
    },
    {
     "name": "stdout",
     "output_type": "stream",
     "text": [
      "NORMAL\n"
     ]
    },
    {
     "name": "stderr",
     "output_type": "stream",
     "text": [
      "100%|██████████| 2637/2637 [00:27<00:00, 95.85it/s] \n"
     ]
    }
   ],
   "source": [
    "# Making label for kaggle radiography dataset\n",
    "images2 = []\n",
    "labels2 = []\n",
    "print(\"Loading {}\".format(path3))\n",
    "for folder in os.listdir(path3):\n",
    "    label = class_names_label_kaggle_radiography[folder]\n",
    "    print(folder)\n",
    "    for file in tqdm(os.listdir(os.path.join(path3, folder))):\n",
    "        img_path = os.path.join(os.path.join(path3, folder), file)\n",
    "        image = cv2.imread(img_path)\n",
    "        image = cv2.cvtColor(image, cv2.COLOR_BGR2RGB)\n",
    "        image = cv2.resize(image, (128, 128))\n",
    "        images2.append(image)\n",
    "        labels2.append(label)\n",
    "images2 = np.array(images2, dtype = 'float32')\n",
    "labels2 = np.array(labels2, dtype = 'int32')"
   ]
  },
  {
   "cell_type": "code",
   "execution_count": 136,
   "metadata": {},
   "outputs": [],
   "source": [
    "## Adding label for kaggle dataset cause kaggle just do binary classification, meanwhile\n",
    "## we want to have multiclass classification of 3, so we add 1\n",
    "for i in range(len(labels1)):\n",
    "  labels1[i] = labels1[i] + 1"
   ]
  },
  {
   "cell_type": "code",
   "execution_count": 137,
   "metadata": {},
   "outputs": [
    {
     "data": {
      "text/plain": [
       "array([1, 1, 1, ..., 2, 2, 2])"
      ]
     },
     "execution_count": 137,
     "metadata": {},
     "output_type": "execute_result"
    }
   ],
   "source": [
    "labels1"
   ]
  },
  {
   "cell_type": "code",
   "execution_count": 138,
   "metadata": {},
   "outputs": [
    {
     "data": {
      "text/plain": [
       "array([0, 0, 0, ..., 1, 1, 1])"
      ]
     },
     "execution_count": 138,
     "metadata": {},
     "output_type": "execute_result"
    }
   ],
   "source": [
    "labels2"
   ]
  },
  {
   "cell_type": "code",
   "execution_count": 139,
   "metadata": {},
   "outputs": [],
   "source": [
    "# Actuamed Dataset\n",
    "source = np.asarray(pd.read_csv(path + '\\\\metadata.csv'))"
   ]
  },
  {
   "cell_type": "code",
   "execution_count": 140,
   "metadata": {},
   "outputs": [
    {
     "data": {
      "text/html": [
       "<div>\n",
       "<style scoped>\n",
       "    .dataframe tbody tr th:only-of-type {\n",
       "        vertical-align: middle;\n",
       "    }\n",
       "\n",
       "    .dataframe tbody tr th {\n",
       "        vertical-align: top;\n",
       "    }\n",
       "\n",
       "    .dataframe thead th {\n",
       "        text-align: right;\n",
       "    }\n",
       "</style>\n",
       "<table border=\"1\" class=\"dataframe\">\n",
       "  <thead>\n",
       "    <tr style=\"text-align: right;\">\n",
       "      <th></th>\n",
       "      <th>patientid</th>\n",
       "      <th>offset</th>\n",
       "      <th>sex</th>\n",
       "      <th>age</th>\n",
       "      <th>finding</th>\n",
       "      <th>survival</th>\n",
       "      <th>temperature</th>\n",
       "      <th>pO2 saturation</th>\n",
       "      <th>view</th>\n",
       "      <th>modality</th>\n",
       "      <th>imagename</th>\n",
       "      <th>artifacts distortion</th>\n",
       "      <th>notes</th>\n",
       "    </tr>\n",
       "  </thead>\n",
       "  <tbody>\n",
       "    <tr>\n",
       "      <th>0</th>\n",
       "      <td>ANON196</td>\n",
       "      <td>NaN</td>\n",
       "      <td>NaN</td>\n",
       "      <td>NaN</td>\n",
       "      <td>NaN</td>\n",
       "      <td>NaN</td>\n",
       "      <td>NaN</td>\n",
       "      <td>NaN</td>\n",
       "      <td>PA</td>\n",
       "      <td>X-ray</td>\n",
       "      <td>CR.1.2.840.113564.1722810170.20200313090023421...</td>\n",
       "      <td>NaN</td>\n",
       "      <td>Inconclusive, date taken (YYYYMMDD): 20200313</td>\n",
       "    </tr>\n",
       "    <tr>\n",
       "      <th>1</th>\n",
       "      <td>ANON196</td>\n",
       "      <td>NaN</td>\n",
       "      <td>NaN</td>\n",
       "      <td>NaN</td>\n",
       "      <td>NaN</td>\n",
       "      <td>NaN</td>\n",
       "      <td>NaN</td>\n",
       "      <td>NaN</td>\n",
       "      <td>PA</td>\n",
       "      <td>X-ray</td>\n",
       "      <td>CR.1.2.840.113564.1722810170.20200313100318375...</td>\n",
       "      <td>NaN</td>\n",
       "      <td>Inconclusive, date taken (YYYYMMDD): 20200313</td>\n",
       "    </tr>\n",
       "    <tr>\n",
       "      <th>2</th>\n",
       "      <td>ANON56</td>\n",
       "      <td>NaN</td>\n",
       "      <td>NaN</td>\n",
       "      <td>NaN</td>\n",
       "      <td>No finding</td>\n",
       "      <td>NaN</td>\n",
       "      <td>NaN</td>\n",
       "      <td>NaN</td>\n",
       "      <td>PA</td>\n",
       "      <td>X-ray</td>\n",
       "      <td>CR.1.2.840.113564.1722810170.20200317090830828...</td>\n",
       "      <td>NaN</td>\n",
       "      <td>Negative (covid-19 viral infection is excluded...</td>\n",
       "    </tr>\n",
       "    <tr>\n",
       "      <th>3</th>\n",
       "      <td>ANON56</td>\n",
       "      <td>NaN</td>\n",
       "      <td>NaN</td>\n",
       "      <td>NaN</td>\n",
       "      <td>No finding</td>\n",
       "      <td>NaN</td>\n",
       "      <td>NaN</td>\n",
       "      <td>NaN</td>\n",
       "      <td>PA</td>\n",
       "      <td>X-ray</td>\n",
       "      <td>CR.1.2.840.113564.1722810170.20200317104341875...</td>\n",
       "      <td>NaN</td>\n",
       "      <td>Negative (covid-19 viral infection is excluded...</td>\n",
       "    </tr>\n",
       "    <tr>\n",
       "      <th>4</th>\n",
       "      <td>ANON196</td>\n",
       "      <td>NaN</td>\n",
       "      <td>NaN</td>\n",
       "      <td>NaN</td>\n",
       "      <td>COVID-19</td>\n",
       "      <td>NaN</td>\n",
       "      <td>NaN</td>\n",
       "      <td>NaN</td>\n",
       "      <td>PA</td>\n",
       "      <td>X-ray</td>\n",
       "      <td>CR.1.2.840.113564.1722810170.20200318082923328...</td>\n",
       "      <td>NaN</td>\n",
       "      <td>, date taken (YYYYMMDD): 20200318</td>\n",
       "    </tr>\n",
       "    <tr>\n",
       "      <th>...</th>\n",
       "      <td>...</td>\n",
       "      <td>...</td>\n",
       "      <td>...</td>\n",
       "      <td>...</td>\n",
       "      <td>...</td>\n",
       "      <td>...</td>\n",
       "      <td>...</td>\n",
       "      <td>...</td>\n",
       "      <td>...</td>\n",
       "      <td>...</td>\n",
       "      <td>...</td>\n",
       "      <td>...</td>\n",
       "      <td>...</td>\n",
       "    </tr>\n",
       "    <tr>\n",
       "      <th>233</th>\n",
       "      <td>ANON33</td>\n",
       "      <td>NaN</td>\n",
       "      <td>NaN</td>\n",
       "      <td>NaN</td>\n",
       "      <td>No finding</td>\n",
       "      <td>NaN</td>\n",
       "      <td>NaN</td>\n",
       "      <td>NaN</td>\n",
       "      <td>PA</td>\n",
       "      <td>X-ray</td>\n",
       "      <td>DX.1.2.840.113564.1722810162.20200420155936364...</td>\n",
       "      <td>NaN</td>\n",
       "      <td>Negative (covid-19 viral infection is excluded...</td>\n",
       "    </tr>\n",
       "    <tr>\n",
       "      <th>234</th>\n",
       "      <td>ANON41</td>\n",
       "      <td>NaN</td>\n",
       "      <td>NaN</td>\n",
       "      <td>NaN</td>\n",
       "      <td>No finding</td>\n",
       "      <td>NaN</td>\n",
       "      <td>NaN</td>\n",
       "      <td>NaN</td>\n",
       "      <td>PA</td>\n",
       "      <td>X-ray</td>\n",
       "      <td>DX.1.2.840.113564.1722810162.20200420164750991...</td>\n",
       "      <td>NaN</td>\n",
       "      <td>Negative (covid-19 viral infection is excluded...</td>\n",
       "    </tr>\n",
       "    <tr>\n",
       "      <th>235</th>\n",
       "      <td>ANON93</td>\n",
       "      <td>NaN</td>\n",
       "      <td>NaN</td>\n",
       "      <td>NaN</td>\n",
       "      <td>No finding</td>\n",
       "      <td>NaN</td>\n",
       "      <td>NaN</td>\n",
       "      <td>NaN</td>\n",
       "      <td>PA</td>\n",
       "      <td>X-ray</td>\n",
       "      <td>DX.1.2.840.113564.1722810162.20200420190511734...</td>\n",
       "      <td>NaN</td>\n",
       "      <td>Negative (covid-19 viral infection is excluded...</td>\n",
       "    </tr>\n",
       "    <tr>\n",
       "      <th>236</th>\n",
       "      <td>ANON59</td>\n",
       "      <td>NaN</td>\n",
       "      <td>NaN</td>\n",
       "      <td>NaN</td>\n",
       "      <td>NaN</td>\n",
       "      <td>NaN</td>\n",
       "      <td>NaN</td>\n",
       "      <td>NaN</td>\n",
       "      <td>PA</td>\n",
       "      <td>X-ray</td>\n",
       "      <td>DX.1.2.840.113564.1722810162.20200420203606112...</td>\n",
       "      <td>NaN</td>\n",
       "      <td>Inconclusive, date taken (YYYYMMDD): 20200420</td>\n",
       "    </tr>\n",
       "    <tr>\n",
       "      <th>237</th>\n",
       "      <td>ANON76</td>\n",
       "      <td>NaN</td>\n",
       "      <td>NaN</td>\n",
       "      <td>NaN</td>\n",
       "      <td>NaN</td>\n",
       "      <td>NaN</td>\n",
       "      <td>NaN</td>\n",
       "      <td>NaN</td>\n",
       "      <td>PA</td>\n",
       "      <td>X-ray</td>\n",
       "      <td>DX.1.2.840.113564.1722810162.20200421084943963...</td>\n",
       "      <td>NaN</td>\n",
       "      <td>Inconclusive, date taken (YYYYMMDD): 20200421</td>\n",
       "    </tr>\n",
       "  </tbody>\n",
       "</table>\n",
       "<p>238 rows × 13 columns</p>\n",
       "</div>"
      ],
      "text/plain": [
       "    patientid offset  sex  age     finding survival temperature  \\\n",
       "0     ANON196    NaN  NaN  NaN         NaN      NaN         NaN   \n",
       "1     ANON196    NaN  NaN  NaN         NaN      NaN         NaN   \n",
       "2      ANON56    NaN  NaN  NaN  No finding      NaN         NaN   \n",
       "3      ANON56    NaN  NaN  NaN  No finding      NaN         NaN   \n",
       "4     ANON196    NaN  NaN  NaN    COVID-19      NaN         NaN   \n",
       "..        ...    ...  ...  ...         ...      ...         ...   \n",
       "233    ANON33    NaN  NaN  NaN  No finding      NaN         NaN   \n",
       "234    ANON41    NaN  NaN  NaN  No finding      NaN         NaN   \n",
       "235    ANON93    NaN  NaN  NaN  No finding      NaN         NaN   \n",
       "236    ANON59    NaN  NaN  NaN         NaN      NaN         NaN   \n",
       "237    ANON76    NaN  NaN  NaN         NaN      NaN         NaN   \n",
       "\n",
       "    pO2 saturation view modality  \\\n",
       "0              NaN   PA    X-ray   \n",
       "1              NaN   PA    X-ray   \n",
       "2              NaN   PA    X-ray   \n",
       "3              NaN   PA    X-ray   \n",
       "4              NaN   PA    X-ray   \n",
       "..             ...  ...      ...   \n",
       "233            NaN   PA    X-ray   \n",
       "234            NaN   PA    X-ray   \n",
       "235            NaN   PA    X-ray   \n",
       "236            NaN   PA    X-ray   \n",
       "237            NaN   PA    X-ray   \n",
       "\n",
       "                                             imagename artifacts distortion  \\\n",
       "0    CR.1.2.840.113564.1722810170.20200313090023421...                  NaN   \n",
       "1    CR.1.2.840.113564.1722810170.20200313100318375...                  NaN   \n",
       "2    CR.1.2.840.113564.1722810170.20200317090830828...                  NaN   \n",
       "3    CR.1.2.840.113564.1722810170.20200317104341875...                  NaN   \n",
       "4    CR.1.2.840.113564.1722810170.20200318082923328...                  NaN   \n",
       "..                                                 ...                  ...   \n",
       "233  DX.1.2.840.113564.1722810162.20200420155936364...                  NaN   \n",
       "234  DX.1.2.840.113564.1722810162.20200420164750991...                  NaN   \n",
       "235  DX.1.2.840.113564.1722810162.20200420190511734...                  NaN   \n",
       "236  DX.1.2.840.113564.1722810162.20200420203606112...                  NaN   \n",
       "237  DX.1.2.840.113564.1722810162.20200421084943963...                  NaN   \n",
       "\n",
       "                                                 notes  \n",
       "0        Inconclusive, date taken (YYYYMMDD): 20200313  \n",
       "1        Inconclusive, date taken (YYYYMMDD): 20200313  \n",
       "2    Negative (covid-19 viral infection is excluded...  \n",
       "3    Negative (covid-19 viral infection is excluded...  \n",
       "4                    , date taken (YYYYMMDD): 20200318  \n",
       "..                                                 ...  \n",
       "233  Negative (covid-19 viral infection is excluded...  \n",
       "234  Negative (covid-19 viral infection is excluded...  \n",
       "235  Negative (covid-19 viral infection is excluded...  \n",
       "236      Inconclusive, date taken (YYYYMMDD): 20200420  \n",
       "237      Inconclusive, date taken (YYYYMMDD): 20200421  \n",
       "\n",
       "[238 rows x 13 columns]"
      ]
     },
     "execution_count": 140,
     "metadata": {},
     "output_type": "execute_result"
    }
   ],
   "source": [
    "## Dataframe Actuamed\n",
    "df = pd.DataFrame(source, columns=['patientid',\t'offset', 'sex',\t'age',\t'finding',\t\n",
    "                                   'survival',\t'temperature',\t'pO2 saturation',\t'view',\t\n",
    "                                   'modality',\t'imagename','artifacts distortion',\t'notes'])\n",
    "df"
   ]
  },
  {
   "cell_type": "code",
   "execution_count": 142,
   "metadata": {},
   "outputs": [],
   "source": [
    "## Actuamed\n",
    "data = []\n",
    "labels = []\n",
    "for i in source:\n",
    "  img = cv2.imread(path +'\\\\images\\\\'+ i[10])\n",
    "  img = cv2.resize(img, (128, 128))\n",
    "  img = cv2.cvtColor(img, cv2.COLOR_BGR2RGB)\n",
    "  label = i[4]\n",
    "  data.append(img)\n",
    "  labels.append(label)\n",
    "data = np.array(data)\n",
    "label = np.array(labels)"
   ]
  },
  {
   "cell_type": "code",
   "execution_count": 143,
   "metadata": {},
   "outputs": [],
   "source": [
    "## Cek buat dataset actuamed, kalo datanya bersifat Nan artinya pneumonia\n",
    "a = ['COVID-19', 'No finding']\n",
    "for i in range(len(labels)): \n",
    "  if labels[i] not in a:\n",
    "    labels[i] = 'pneumonia'"
   ]
  },
  {
   "cell_type": "code",
   "execution_count": 144,
   "metadata": {},
   "outputs": [],
   "source": [
    "## Encoder label for actualmed\n",
    "le.fit(labels)\n",
    "labels = le.transform(labels)"
   ]
  },
  {
   "cell_type": "code",
   "execution_count": 145,
   "metadata": {},
   "outputs": [],
   "source": [
    "## Combine the dataset (Actuamed & Python)\n",
    "new_label = np.concatenate((labels, labels1, labels2), axis=0)\n",
    "new_data = np.concatenate((data, images1, images2), axis=0)"
   ]
  },
  {
   "cell_type": "code",
   "execution_count": 146,
   "metadata": {},
   "outputs": [],
   "source": [
    "# dibagi 255 untuk normalisasi\n",
    "new_data = new_data/255."
   ]
  },
  {
   "cell_type": "code",
   "execution_count": 147,
   "metadata": {},
   "outputs": [
    {
     "data": {
      "text/plain": [
       "array([2, 2, 1, ..., 1, 1, 1])"
      ]
     },
     "execution_count": 147,
     "metadata": {},
     "output_type": "execute_result"
    }
   ],
   "source": [
    "new_label"
   ]
  },
  {
   "cell_type": "code",
   "execution_count": 148,
   "metadata": {},
   "outputs": [
    {
     "data": {
      "text/plain": [
       "(12070, 128, 128, 3)"
      ]
     },
     "execution_count": 148,
     "metadata": {},
     "output_type": "execute_result"
    }
   ],
   "source": [
    "new_data.shape"
   ]
  },
  {
   "cell_type": "code",
   "execution_count": 149,
   "metadata": {},
   "outputs": [],
   "source": [
    "new_data = new_data.reshape(len(new_data), 128, 128, 3)"
   ]
  },
  {
   "cell_type": "code",
   "execution_count": 150,
   "metadata": {},
   "outputs": [
    {
     "data": {
      "text/plain": [
       "<matplotlib.image.AxesImage at 0x1d6e76f6260>"
      ]
     },
     "execution_count": 150,
     "metadata": {},
     "output_type": "execute_result"
    },
    {
     "data": {
      "image/png": "[encoded data removed]",
      "text/plain": [
       "<Figure size 432x288 with 1 Axes>"
      ]
     },
     "metadata": {
      "needs_background": "light"
     },
     "output_type": "display_data"
    }
   ],
   "source": [
    "plt.imshow(new_data[15], cmap = 'gray')"
   ]
  },
  {
   "cell_type": "code",
   "execution_count": 151,
   "metadata": {},
   "outputs": [],
   "source": [
    "data = data.reshape(len(data), 128, 128, 3)"
   ]
  },
  {
   "cell_type": "code",
   "execution_count": 152,
   "metadata": {},
   "outputs": [
    {
     "name": "stdout",
     "output_type": "stream",
     "text": [
      "3674\n",
      "4070\n",
      "4326\n"
     ]
    }
   ],
   "source": [
    "# Check how many data each of the class feature \n",
    "# 0 -> covid\n",
    "# 1 -> normal\n",
    "# 2 -> pneumonia\n",
    "print(len(np.where(new_label == 0)[0]))\n",
    "print(len(np.where(new_label == 1)[0]))\n",
    "print(len(np.where(new_label == 2)[0]))"
   ]
  },
  {
   "cell_type": "markdown",
   "metadata": {},
   "source": []
  },
  {
   "cell_type": "markdown",
   "metadata": {},
   "source": [
    "#### Deep Learning Model"
   ]
  },
  {
   "cell_type": "code",
   "execution_count": 153,
   "metadata": {},
   "outputs": [],
   "source": [
    "# Model ResNet50\n",
    "model = Sequential()\n",
    "model.add(Input(shape=(128,128,3)))\n",
    "model.add(Conv2D(filters=64,kernel_size=(7,7),padding=\"same\", activation=\"relu\"))\n",
    "model.add(MaxPool2D(pool_size=(2,2),strides=(2,2)))\n",
    "model.add(Conv2D(filters=64, kernel_size=(1,1), padding=\"same\", activation=\"relu\"))\n",
    "model.add(Conv2D(filters=64, kernel_size=(3,3), padding=\"same\", activation=\"relu\"))\n",
    "model.add(Conv2D(filters=256, kernel_size=(1,1), padding=\"same\", activation=\"relu\"))\n",
    "model.add(MaxPool2D(pool_size=(2,2),strides=(2,2)))\n",
    "model.add(Conv2D(filters=64, kernel_size=(1,1), padding=\"same\", activation=\"relu\"))\n",
    "model.add(Conv2D(filters=64, kernel_size=(3,3), padding=\"same\", activation=\"relu\"))\n",
    "model.add(Conv2D(filters=256, kernel_size=(1,1), padding=\"same\", activation=\"relu\"))\n",
    "model.add(MaxPool2D(pool_size=(2,2),strides=(2,2)))\n",
    "model.add(Conv2D(filters=64, kernel_size=(1,1), padding=\"same\", activation=\"relu\"))\n",
    "model.add(Conv2D(filters=64, kernel_size=(3,3), padding=\"same\", activation=\"relu\"))\n",
    "model.add(Conv2D(filters=256, kernel_size=(1,1), padding=\"same\", activation=\"relu\"))\n",
    "model.add(MaxPool2D(pool_size=(2,2),strides=(2,2)))\n",
    "model.add(Conv2D(filters=128, kernel_size=(1,1), padding=\"same\", activation=\"relu\"))\n",
    "model.add(Conv2D(filters=128, kernel_size=(3,3), padding=\"same\", activation=\"relu\"))\n",
    "model.add(Conv2D(filters=512, kernel_size=(1,1), padding=\"same\", activation=\"relu\"))\n",
    "model.add(MaxPool2D(pool_size=(2,2),strides=(2,2)))\n",
    "model.add(Conv2D(filters=128, kernel_size=(1,1), padding=\"same\", activation=\"relu\"))\n",
    "model.add(Conv2D(filters=128, kernel_size=(3,3), padding=\"same\", activation=\"relu\"))\n",
    "model.add(Conv2D(filters=512, kernel_size=(1,1), padding=\"same\", activation=\"relu\"))\n",
    "model.add(MaxPool2D(pool_size=(2,2),strides=(2,2)))\n",
    "model.add(Conv2D(filters=128, kernel_size=(1,1), padding=\"same\", activation=\"relu\"))\n",
    "model.add(Conv2D(filters=128, kernel_size=(3,3), padding=\"same\", activation=\"relu\"))\n",
    "model.add(Conv2D(filters=512, kernel_size=(1,1), padding=\"same\", activation=\"relu\"))\n",
    "model.add(MaxPool2D(pool_size=(2,2),strides=(2,2)))\n",
    "model.add(Conv2D(filters=256, kernel_size=(1,1), padding=\"same\", activation=\"relu\"))\n",
    "model.add(Conv2D(filters=256, kernel_size=(3,3), padding=\"same\", activation=\"relu\"))\n",
    "model.add(Conv2D(filters=1024, kernel_size=(1,1), padding=\"same\", activation=\"relu\"))\n",
    "model.add(MaxPool2D(pool_size=(2,2),strides=(2,2)))\n",
    "model.add(Conv2D(filters=256, kernel_size=(1,1), padding=\"same\", activation=\"relu\"))\n",
    "model.add(Conv2D(filters=256, kernel_size=(3,3), padding=\"same\", activation=\"relu\"))\n",
    "model.add(Conv2D(filters=1024, kernel_size=(1,1), padding=\"same\", activation=\"relu\"))\n",
    "model.add(MaxPool2D(pool_size=(2,2),strides=(2,2)))\n",
    "model.add(Conv2D(filters=256, kernel_size=(1,1), padding=\"same\", activation=\"relu\"))\n",
    "model.add(Conv2D(filters=256, kernel_size=(3,3), padding=\"same\", activation=\"relu\"))\n",
    "model.add(Conv2D(filters=1024, kernel_size=(1,1), padding=\"same\", activation=\"relu\"))\n",
    "model.add(MaxPool2D(pool_size=(2,2),strides=(2,2)))\n",
    "model.add(Conv2D(filters=512, kernel_size=(1,1), padding=\"same\", activation=\"relu\"))\n",
    "model.add(Conv2D(filters=512, kernel_size=(3,3), padding=\"same\", activation=\"relu\"))\n",
    "model.add(Conv2D(filters=2048, kernel_size=(1,1), padding=\"same\", activation=\"relu\"))\n",
    "model.add(MaxPool2D(pool_size=(2,2),strides=(2,2)))\n",
    "model.add(Conv2D(filters=512, kernel_size=(1,1), padding=\"same\", activation=\"relu\"))\n",
    "model.add(Conv2D(filters=512, kernel_size=(3,3), padding=\"same\", activation=\"relu\"))\n",
    "model.add(Conv2D(filters=2048, kernel_size=(1,1), padding=\"same\", activation=\"relu\"))\n",
    "model.add(MaxPool2D(pool_size=(2,2),strides=(2,2)))\n",
    "model.add(Conv2D(filters=512, kernel_size=(1,1), padding=\"same\", activation=\"relu\"))\n",
    "model.add(Conv2D(filters=512, kernel_size=(3,3), padding=\"same\", activation=\"relu\"))\n",
    "model.add(Conv2D(filters=2048, kernel_size=(1,1), padding=\"same\", activation=\"relu\"))\n",
    "model.add(MaxPool2D(pool_size=(2,2),strides=(2,2)))\n",
    "model.add(Flatten())\n",
    "# model.add(Dense(units=4096,activation=\"relu\"))\n",
    "# model.add(Dense(units=4096,activation=\"relu\"))\n",
    "# model.add(Dense(units=3, activation=\"softmax\"))\n",
    "model.add(Dense(units=1000,activation=\"relu\"))\n",
    "model.add(Dense(units=1000,activation=\"relu\"))\n",
    "model.add(Dense(units=3, activation=\"softmax\"))\n"
   ]
  },
  {
   "cell_type": "code",
   "execution_count": 154,
   "metadata": {},
   "outputs": [
    {
     "name": "stdout",
     "output_type": "stream",
     "text": [
      "Model: \"model_1\"\n",
      "_________________________________________________________________\n",
      " Layer (type)                Output Shape              Param #   \n",
      "=================================================================\n",
      " input_2 (InputLayer)        [(None, 128, 128, 3)]     0         \n",
      "                                                                 \n",
      " conv2d_4 (Conv2D)           (None, 126, 126, 16)      448       \n",
      "                                                                 \n",
      " max_pooling2d_4 (MaxPooling  (None, 63, 63, 16)       0         \n",
      " 2D)                                                             \n",
      "                                                                 \n",
      " conv2d_5 (Conv2D)           (None, 61, 61, 32)        4640      \n",
      "                                                                 \n",
      " max_pooling2d_5 (MaxPooling  (None, 30, 30, 32)       0         \n",
      " 2D)                                                             \n",
      "                                                                 \n",
      " conv2d_6 (Conv2D)           (None, 28, 28, 64)        18496     \n",
      "                                                                 \n",
      " max_pooling2d_6 (MaxPooling  (None, 14, 14, 64)       0         \n",
      " 2D)                                                             \n",
      "                                                                 \n",
      " conv2d_7 (Conv2D)           (None, 12, 12, 256)       147712    \n",
      "                                                                 \n",
      " max_pooling2d_7 (MaxPooling  (None, 6, 6, 256)        0         \n",
      " 2D)                                                             \n",
      "                                                                 \n",
      " flatten_1 (Flatten)         (None, 9216)              0         \n",
      "                                                                 \n",
      " dense_2 (Dense)             (None, 128)               1179776   \n",
      "                                                                 \n",
      " dense_3 (Dense)             (None, 3)                 387       \n",
      "                                                                 \n",
      "=================================================================\n",
      "Total params: 1,351,459\n",
      "Trainable params: 1,351,459\n",
      "Non-trainable params: 0\n",
      "_________________________________________________________________\n"
     ]
    }
   ],
   "source": [
    "model.summary()"
   ]
  },
  {
   "cell_type": "code",
   "execution_count": 155,
   "metadata": {},
   "outputs": [],
   "source": [
    "new_label = tf.keras.utils.to_categorical(new_label, num_classes=3)"
   ]
  },
  {
   "cell_type": "markdown",
   "metadata": {},
   "source": [
    "#### Training dan testing data"
   ]
  },
  {
   "cell_type": "code",
   "execution_count": null,
   "metadata": {},
   "outputs": [],
   "source": [
    "x_train, x_test, y_train, y_test = train_test_split(new_data, new_label, test_size=0.2, random_state=1)"
   ]
  },
  {
   "cell_type": "code",
   "execution_count": 157,
   "metadata": {},
   "outputs": [
    {
     "name": "stdout",
     "output_type": "stream",
     "text": [
      "Epoch 1/50\n",
      "302/302 [==============================] - 210s 679ms/step - loss: 0.4830 - accuracy: 0.7963 - val_loss: 0.3006 - val_accuracy: 0.8911\n",
      "Epoch 2/50\n",
      "302/302 [==============================] - 179s 594ms/step - loss: 0.2814 - accuracy: 0.8977 - val_loss: 0.2416 - val_accuracy: 0.9147\n",
      "Epoch 3/50\n",
      "302/302 [==============================] - 170s 564ms/step - loss: 0.2222 - accuracy: 0.9210 - val_loss: 0.1836 - val_accuracy: 0.9366\n",
      "Epoch 4/50\n",
      "302/302 [==============================] - 152s 503ms/step - loss: 0.1855 - accuracy: 0.9352 - val_loss: 0.1866 - val_accuracy: 0.9350\n",
      "Epoch 5/50\n",
      "302/302 [==============================] - 132s 435ms/step - loss: 0.1561 - accuracy: 0.9457 - val_loss: 0.1908 - val_accuracy: 0.9292\n",
      "Epoch 6/50\n",
      "302/302 [==============================] - 117s 388ms/step - loss: 0.1281 - accuracy: 0.9552 - val_loss: 0.1908 - val_accuracy: 0.9387\n",
      "Epoch 7/50\n",
      "302/302 [==============================] - 112s 369ms/step - loss: 0.1052 - accuracy: 0.9615 - val_loss: 0.1708 - val_accuracy: 0.9403\n",
      "Epoch 8/50\n",
      "302/302 [==============================] - 114s 375ms/step - loss: 0.0793 - accuracy: 0.9725 - val_loss: 0.1649 - val_accuracy: 0.9499\n",
      "Epoch 9/50\n",
      "302/302 [==============================] - 114s 378ms/step - loss: 0.0732 - accuracy: 0.9749 - val_loss: 0.1930 - val_accuracy: 0.9412\n",
      "Epoch 10/50\n",
      "302/302 [==============================] - 125s 415ms/step - loss: 0.0564 - accuracy: 0.9812 - val_loss: 0.1891 - val_accuracy: 0.9461\n",
      "Epoch 11/50\n",
      "302/302 [==============================] - 116s 384ms/step - loss: 0.0491 - accuracy: 0.9817 - val_loss: 0.2031 - val_accuracy: 0.9453\n",
      "Epoch 12/50\n",
      "302/302 [==============================] - 114s 378ms/step - loss: 0.0395 - accuracy: 0.9861 - val_loss: 0.2239 - val_accuracy: 0.9333\n",
      "Epoch 13/50\n",
      "302/302 [==============================] - 115s 382ms/step - loss: 0.0475 - accuracy: 0.9834 - val_loss: 0.2142 - val_accuracy: 0.9437\n",
      "Epoch 14/50\n",
      "302/302 [==============================] - 112s 369ms/step - loss: 0.0258 - accuracy: 0.9917 - val_loss: 0.2185 - val_accuracy: 0.9453\n",
      "Epoch 15/50\n",
      "302/302 [==============================] - 115s 380ms/step - loss: 0.0224 - accuracy: 0.9934 - val_loss: 0.2523 - val_accuracy: 0.9499\n",
      "Epoch 16/50\n",
      "302/302 [==============================] - 137s 455ms/step - loss: 0.0186 - accuracy: 0.9934 - val_loss: 0.3316 - val_accuracy: 0.9283\n",
      "Epoch 17/50\n",
      "302/302 [==============================] - 149s 493ms/step - loss: 0.0247 - accuracy: 0.9908 - val_loss: 0.2727 - val_accuracy: 0.9470\n",
      "Epoch 18/50\n",
      "302/302 [==============================] - 147s 486ms/step - loss: 0.0162 - accuracy: 0.9952 - val_loss: 0.3334 - val_accuracy: 0.9416\n",
      "Epoch 19/50\n",
      "302/302 [==============================] - 127s 421ms/step - loss: 0.0314 - accuracy: 0.9900 - val_loss: 0.2443 - val_accuracy: 0.9449\n",
      "Epoch 20/50\n",
      "302/302 [==============================] - 122s 403ms/step - loss: 0.0159 - accuracy: 0.9947 - val_loss: 0.4160 - val_accuracy: 0.9296\n",
      "Epoch 21/50\n",
      "302/302 [==============================] - 126s 417ms/step - loss: 0.0209 - accuracy: 0.9926 - val_loss: 0.2982 - val_accuracy: 0.9420\n",
      "Epoch 22/50\n",
      "302/302 [==============================] - 119s 394ms/step - loss: 0.0111 - accuracy: 0.9965 - val_loss: 0.3203 - val_accuracy: 0.9503\n",
      "Epoch 23/50\n",
      "302/302 [==============================] - 127s 420ms/step - loss: 0.0133 - accuracy: 0.9950 - val_loss: 0.4160 - val_accuracy: 0.9374\n",
      "Epoch 24/50\n",
      "302/302 [==============================] - 114s 377ms/step - loss: 0.0323 - accuracy: 0.9901 - val_loss: 0.2598 - val_accuracy: 0.9548\n",
      "Epoch 25/50\n",
      "302/302 [==============================] - 116s 384ms/step - loss: 0.0037 - accuracy: 0.9993 - val_loss: 0.3272 - val_accuracy: 0.9482\n",
      "Epoch 26/50\n",
      "302/302 [==============================] - 121s 400ms/step - loss: 0.0026 - accuracy: 0.9988 - val_loss: 0.3528 - val_accuracy: 0.9474\n",
      "Epoch 27/50\n",
      "302/302 [==============================] - 113s 373ms/step - loss: 0.0287 - accuracy: 0.9899 - val_loss: 0.3026 - val_accuracy: 0.9495\n",
      "Epoch 28/50\n",
      "302/302 [==============================] - 112s 370ms/step - loss: 0.0309 - accuracy: 0.9905 - val_loss: 0.3436 - val_accuracy: 0.9461\n",
      "Epoch 29/50\n",
      "302/302 [==============================] - 116s 386ms/step - loss: 0.0116 - accuracy: 0.9967 - val_loss: 0.2808 - val_accuracy: 0.9511\n",
      "Epoch 30/50\n",
      "302/302 [==============================] - 117s 389ms/step - loss: 0.0077 - accuracy: 0.9982 - val_loss: 0.3014 - val_accuracy: 0.9478\n",
      "Epoch 31/50\n",
      "302/302 [==============================] - 118s 391ms/step - loss: 0.0125 - accuracy: 0.9957 - val_loss: 0.3299 - val_accuracy: 0.9461\n",
      "Epoch 32/50\n",
      "302/302 [==============================] - 120s 399ms/step - loss: 0.0079 - accuracy: 0.9976 - val_loss: 0.3618 - val_accuracy: 0.9511\n",
      "Epoch 33/50\n",
      "302/302 [==============================] - 121s 399ms/step - loss: 3.7265e-04 - accuracy: 1.0000 - val_loss: 0.3507 - val_accuracy: 0.9540\n",
      "Epoch 34/50\n",
      "302/302 [==============================] - 119s 395ms/step - loss: 6.8113e-05 - accuracy: 1.0000 - val_loss: 0.3592 - val_accuracy: 0.9540\n",
      "Epoch 35/50\n",
      "302/302 [==============================] - 123s 407ms/step - loss: 4.3322e-05 - accuracy: 1.0000 - val_loss: 0.3708 - val_accuracy: 0.9536\n",
      "Epoch 36/50\n",
      "302/302 [==============================] - 123s 408ms/step - loss: 3.2050e-05 - accuracy: 1.0000 - val_loss: 0.3777 - val_accuracy: 0.9540\n",
      "Epoch 37/50\n",
      "302/302 [==============================] - 120s 398ms/step - loss: 2.4818e-05 - accuracy: 1.0000 - val_loss: 0.3850 - val_accuracy: 0.9540\n",
      "Epoch 38/50\n",
      "302/302 [==============================] - 123s 408ms/step - loss: 1.9479e-05 - accuracy: 1.0000 - val_loss: 0.3920 - val_accuracy: 0.9548\n",
      "Epoch 39/50\n",
      "302/302 [==============================] - 134s 444ms/step - loss: 1.5536e-05 - accuracy: 1.0000 - val_loss: 0.3997 - val_accuracy: 0.9544\n",
      "Epoch 40/50\n",
      "302/302 [==============================] - 132s 436ms/step - loss: 1.2485e-05 - accuracy: 1.0000 - val_loss: 0.4043 - val_accuracy: 0.9553\n",
      "Epoch 41/50\n",
      "302/302 [==============================] - 131s 435ms/step - loss: 1.0126e-05 - accuracy: 1.0000 - val_loss: 0.4117 - val_accuracy: 0.9553\n",
      "Epoch 42/50\n",
      "302/302 [==============================] - 123s 407ms/step - loss: 8.1733e-06 - accuracy: 1.0000 - val_loss: 0.4222 - val_accuracy: 0.9553\n",
      "Epoch 43/50\n",
      "302/302 [==============================] - 135s 446ms/step - loss: 6.6573e-06 - accuracy: 1.0000 - val_loss: 0.4265 - val_accuracy: 0.9544\n",
      "Epoch 44/50\n",
      "302/302 [==============================] - 137s 453ms/step - loss: 5.4542e-06 - accuracy: 1.0000 - val_loss: 0.4336 - val_accuracy: 0.9544\n",
      "Epoch 45/50\n",
      "302/302 [==============================] - 122s 404ms/step - loss: 4.5472e-06 - accuracy: 1.0000 - val_loss: 0.4474 - val_accuracy: 0.9548\n",
      "Epoch 46/50\n",
      "302/302 [==============================] - 126s 418ms/step - loss: 3.8154e-06 - accuracy: 1.0000 - val_loss: 0.4523 - val_accuracy: 0.9544\n",
      "Epoch 47/50\n",
      "302/302 [==============================] - 115s 381ms/step - loss: 3.1693e-06 - accuracy: 1.0000 - val_loss: 0.4614 - val_accuracy: 0.9561\n",
      "Epoch 48/50\n",
      "302/302 [==============================] - 124s 411ms/step - loss: 2.6621e-06 - accuracy: 1.0000 - val_loss: 0.4616 - val_accuracy: 0.9548\n",
      "Epoch 49/50\n",
      "302/302 [==============================] - 130s 432ms/step - loss: 2.2405e-06 - accuracy: 1.0000 - val_loss: 0.4720 - val_accuracy: 0.9561\n",
      "Epoch 50/50\n",
      "302/302 [==============================] - 125s 415ms/step - loss: 1.8791e-06 - accuracy: 1.0000 - val_loss: 0.4767 - val_accuracy: 0.9557\n"
     ]
    }
   ],
   "source": [
    "model.compile(optimizer='adam', loss='categorical_crossentropy', metrics=['accuracy'])\n",
    "history = model.fit(x_train, y_train, validation_data=(x_test, y_test), epochs=50)"
   ]
  },
  {
   "cell_type": "code",
   "execution_count": 160,
   "metadata": {},
   "outputs": [
    {
     "name": "stdout",
     "output_type": "stream",
     "text": [
      "76/76 [==============================] - 12s 151ms/step - loss: 0.4767 - accuracy: 0.9557\n"
     ]
    },
    {
     "data": {
      "text/plain": [
       "[0.4766841232776642, 0.9556752443313599]"
      ]
     },
     "execution_count": 160,
     "metadata": {},
     "output_type": "execute_result"
    }
   ],
   "source": [
    "model.evaluate(x_test,y_test)"
   ]
  },
  {
   "cell_type": "code",
   "execution_count": 161,
   "metadata": {},
   "outputs": [
    {
     "name": "stdout",
     "output_type": "stream",
     "text": [
      "              precision    recall  f1-score   support\n",
      "\n",
      "           0       0.99      0.99      0.99      3674\n",
      "           1       0.99      0.99      0.99      4070\n",
      "           2       0.99      0.99      0.99      4326\n",
      "\n",
      "    accuracy                           0.99     12070\n",
      "   macro avg       0.99      0.99      0.99     12070\n",
      "weighted avg       0.99      0.99      0.99     12070\n",
      "\n"
     ]
    }
   ],
   "source": [
    "# Print the accuracy of the model\n",
    "print(classification_report(np.argmax(new_label, axis=-1), np.argmax(model.predict(new_data), axis=-1)))"
   ]
  },
  {
   "cell_type": "code",
   "execution_count": 162,
   "metadata": {},
   "outputs": [],
   "source": [
    "test = data[1].reshape(1, 128, 128, 3)"
   ]
  },
  {
   "cell_type": "code",
   "execution_count": 163,
   "metadata": {},
   "outputs": [
    {
     "data": {
      "text/plain": [
       "array([[0., 0., 1.]], dtype=float32)"
      ]
     },
     "execution_count": 163,
     "metadata": {},
     "output_type": "execute_result"
    }
   ],
   "source": [
    "model.predict(test)"
   ]
  },
  {
   "cell_type": "code",
   "execution_count": 164,
   "metadata": {},
   "outputs": [
    {
     "data": {
      "text/plain": [
       "array([2], dtype=int64)"
      ]
     },
     "execution_count": 164,
     "metadata": {},
     "output_type": "execute_result"
    }
   ],
   "source": [
    "np.argmax(model.predict(test), axis=-1)"
   ]
  },
  {
   "cell_type": "markdown",
   "metadata": {},
   "source": [
    "#### Save dan Load Model"
   ]
  },
  {
   "cell_type": "code",
   "execution_count": 165,
   "metadata": {},
   "outputs": [],
   "source": [
    "## Save deep learning model\n",
    "model.save(\"cxr_model2.h5\")"
   ]
  },
  {
   "cell_type": "code",
   "execution_count": 166,
   "metadata": {},
   "outputs": [],
   "source": [
    "## Load the model\n",
    "# loaded_model = load_model(\"cxr_model.h5\")\n",
    "\n",
    "## Load the model\n",
    "# loaded_model = load_model(\"cxr_model1.h5\")\n",
    "\n",
    "## Load the model\n",
    "loaded_model = load_model(\"cxr_model2.h5\")"
   ]
  },
  {
   "cell_type": "code",
   "execution_count": 167,
   "metadata": {},
   "outputs": [
    {
     "name": "stdout",
     "output_type": "stream",
     "text": [
      "Model: \"model_1\"\n",
      "_________________________________________________________________\n",
      " Layer (type)                Output Shape              Param #   \n",
      "=================================================================\n",
      " input_2 (InputLayer)        [(None, 128, 128, 3)]     0         \n",
      "                                                                 \n",
      " conv2d_4 (Conv2D)           (None, 126, 126, 16)      448       \n",
      "                                                                 \n",
      " max_pooling2d_4 (MaxPooling  (None, 63, 63, 16)       0         \n",
      " 2D)                                                             \n",
      "                                                                 \n",
      " conv2d_5 (Conv2D)           (None, 61, 61, 32)        4640      \n",
      "                                                                 \n",
      " max_pooling2d_5 (MaxPooling  (None, 30, 30, 32)       0         \n",
      " 2D)                                                             \n",
      "                                                                 \n",
      " conv2d_6 (Conv2D)           (None, 28, 28, 64)        18496     \n",
      "                                                                 \n",
      " max_pooling2d_6 (MaxPooling  (None, 14, 14, 64)       0         \n",
      " 2D)                                                             \n",
      "                                                                 \n",
      " conv2d_7 (Conv2D)           (None, 12, 12, 256)       147712    \n",
      "                                                                 \n",
      " max_pooling2d_7 (MaxPooling  (None, 6, 6, 256)        0         \n",
      " 2D)                                                             \n",
      "                                                                 \n",
      " flatten_1 (Flatten)         (None, 9216)              0         \n",
      "                                                                 \n",
      " dense_2 (Dense)             (None, 128)               1179776   \n",
      "                                                                 \n",
      " dense_3 (Dense)             (None, 3)                 387       \n",
      "                                                                 \n",
      "=================================================================\n",
      "Total params: 1,351,459\n",
      "Trainable params: 1,351,459\n",
      "Non-trainable params: 0\n",
      "_________________________________________________________________\n"
     ]
    }
   ],
   "source": [
    "loaded_model.summary()"
   ]
  },
  {
   "cell_type": "code",
   "execution_count": 168,
   "metadata": {},
   "outputs": [
    {
     "name": "stdout",
     "output_type": "stream",
     "text": [
      "76/76 [==============================] - 25s 317ms/step - loss: 0.4767 - accuracy: 0.9557\n"
     ]
    },
    {
     "data": {
      "text/plain": [
       "[0.4766841232776642, 0.9556752443313599]"
      ]
     },
     "execution_count": 168,
     "metadata": {},
     "output_type": "execute_result"
    }
   ],
   "source": [
    "## Test the loaded model again\n",
    "loaded_model.evaluate(x_test,y_test)"
   ]
  },
  {
   "cell_type": "code",
   "execution_count": 33,
   "metadata": {},
   "outputs": [],
   "source": [
    "class_label = [\"Covid-19\", \"No Finding\", \"Pneumonia\"]"
   ]
  },
  {
   "cell_type": "code",
   "execution_count": null,
   "metadata": {},
   "outputs": [],
   "source": [
    "## For Predict the Image\n",
    "%matplotlib inline\n",
    "from google.colab import file\n",
    " \n",
    "uploaded = file.upload()\n",
    " \n",
    "for fn in uploaded.keys():\n",
    "\n",
    "  path = fn\n",
    "  img = cv2.imread(path)\n",
    "  img = cv2.cvtColor(img, cv2.COLOR_BGR2RGB)\n",
    "  img = cv2.resize(img, (128, 128))\n",
    "\n",
    "img = img.reshape(1, 128, 128, 3)\n",
    "\n",
    "print(fn)\n",
    "\n",
    "plt.imshow(img.reshape(128,128,3))\n",
    "plt.xticks([])\n",
    "plt.yticks([])\n",
    "plt.grid(False)\n",
    "plt.title(class_label[np.argmax(model.predict(img))])\n",
    "plt.show()"
   ]
  }
 ],
 "metadata": {
  "kernelspec": {
   "display_name": "Python 3.10.4 64-bit",
   "language": "python",
   "name": "python3"
  },
  "language_info": {
   "codemirror_mode": {
    "name": "ipython",
    "version": 3
   },
   "file_extension": ".py",
   "mimetype": "text/x-python",
   "name": "python",
   "nbconvert_exporter": "python",
   "pygments_lexer": "ipython3",
   "version": "3.10.4"
  },
  "orig_nbformat": 4,
  "vscode": {
   "interpreter": {
    "hash": "27f6fea6f47ae512550f0b8facdbd035a93e1dd89633f7bf2dd00a2502c71d0d"
   }
  }
 },
 "nbformat": 4,
 "nbformat_minor": 2
}
