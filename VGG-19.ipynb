{
 "cells": [
  {
   "cell_type": "markdown",
   "metadata": {},
   "source": [
    "# Pendeteksi penyakit paru-paru menggunakan Deep-Multi-Layered CNN"
   ]
  },
  {
   "cell_type": "markdown",
   "metadata": {},
   "source": [
    "#### Dataset"
   ]
  },
  {
   "cell_type": "markdown",
   "metadata": {},
   "source": [
    "(Google Drive)\n",
    "> https://drive.google.com/drive/folders/1oAJUw2UChrYMqUwLB8F-4RuX19WoeqsN?usp=sharing\n",
    "\n",
    "(covid-chestxray-dataset)\n",
    "> https://github.com/ieee8023/covid-chestxray-dataset\n",
    "\n",
    "\n",
    "(Actualmed-COVID-chestxray-dataset)\n",
    "> https://github.com/agchung/Actualmed-COVID-chestxray-dataset\n",
    "\n",
    "(Kaggle Chest X-Ray Images (Pneumonia))\n",
    "> https://www.kaggle.com/paultimothymooney/chest-xray-pneumonia"
   ]
  },
  {
   "cell_type": "code",
   "execution_count": 128,
   "metadata": {},
   "outputs": [],
   "source": [
    "#Library CNN\n",
    "import tensorflow as tf\n",
    "import glob \n",
    "import numpy as np\n",
    "import pandas as pd\n",
    "import os\n",
    "from tqdm import tqdm\n",
    "import cv2\n",
    "import matplotlib.pyplot as plt\n",
    "from sklearn.preprocessing import LabelEncoder\n",
    "from keras.layers import BatchNormalization, Flatten, Input, concatenate\n",
    "from keras.layers.convolutional import Conv2D, MaxPooling2D, AveragePooling2D\n",
    "from keras.models import load_model\n",
    "from keras.layers.core import Activation, Dense, Dropout\n",
    "from sklearn.model_selection import train_test_split\n",
    "from sklearn.metrics import classification_report\n",
    "from keras.models import Model\n",
    "from joblib import dump\n",
    "le = LabelEncoder()\n",
    "\n",
    "# library RESNET\n",
    "import keras,os\n",
    "from keras.models import Sequential\n",
    "from keras.layers import Dense, Conv2D, MaxPool2D , Flatten\n",
    "from keras.preprocessing.image import ImageDataGenerator\n",
    "import numpy as np"
   ]
  },
  {
   "cell_type": "code",
   "execution_count": 129,
   "metadata": {},
   "outputs": [],
   "source": [
    "# Actuamed Dir Local ALbert\n",
    "# path = \"C:\\\\Users\\\\alber\\\\Desktop\\\\Semester 6\\\\Pengolahan Citra Digital\\\\Python\\Actualmed-COVID-chestxray-dataset-master\"\n",
    "\n",
    "# Actumed Dir Local Jessica\n",
    "path = \"F:\\Backup Data\\KULIAH KELAS\\SEMESTER 6\\9. Pengolahan Citra\\Project Akhir\\Actualmed-COVID-chestxray-dataset-master-20220416T062843Z-001\\Actualmed-COVID-chestxray-dataset-master\""
   ]
  },
  {
   "cell_type": "code",
   "execution_count": 130,
   "metadata": {},
   "outputs": [],
   "source": [
    "# Kaggle Dir Local Albert\n",
    "# path2 = \"C:\\\\Users\\\\alber\\\\Desktop\\\\Semester 6\\\\Pengolahan Citra Digital\\\\Python\\kaggle\"\n",
    "\n",
    "# Kaggle Dir Local Jessica\n",
    "path2 = \"F:\\Backup Data\\KULIAH KELAS\\SEMESTER 6\\9. Pengolahan Citra\\Project Akhir\\kaggle-20220416T062842Z-001\\kaggle\"\n"
   ]
  },
  {
   "cell_type": "code",
   "execution_count": 131,
   "metadata": {},
   "outputs": [],
   "source": [
    "# Kaggle COVID Dir Local Jessica\n",
    "path3 = \"F:\\Backup Data\\KULIAH KELAS\\SEMESTER 6\\9. Pengolahan Citra\\Project Akhir\\Kaggle Radiography\"\n"
   ]
  },
  {
   "cell_type": "code",
   "execution_count": 132,
   "metadata": {},
   "outputs": [],
   "source": [
    "## Label for Kaggle Dataset\n",
    "class_label_kaggle = [\"NORMAL\",\"PNEUMONIA\"]\n",
    "le.fit(class_label_kaggle)\n",
    "class_names_label = {class_label_kaggle:i for i, class_label_kaggle in enumerate(class_label_kaggle)}\n",
    "class_labelname_kaggle = le.transform(class_label_kaggle)"
   ]
  },
  {
   "cell_type": "code",
   "execution_count": 133,
   "metadata": {},
   "outputs": [],
   "source": [
    "## Label for Kaggle Radiography Dataset\n",
    "class_label_kaggle_radiography = [\"COVID\", \"NORMAL\"]\n",
    "le.fit(class_label_kaggle_radiography)\n",
    "class_names_label_kaggle_radiography = {class_label_kaggle_radiography:i for i, class_label_kaggle_radiography in enumerate(class_label_kaggle_radiography)}\n",
    "class_labelname_kaggle_radiography = le.transform(class_label_kaggle_radiography)"
   ]
  },
  {
   "cell_type": "code",
   "execution_count": 134,
   "metadata": {},
   "outputs": [
    {
     "data": {
      "text/plain": [
       "{'NORMAL': 0, 'PNEUMONIA': 1}"
      ]
     },
     "execution_count": 134,
     "metadata": {},
     "output_type": "execute_result"
    }
   ],
   "source": [
    "class_names_label"
   ]
  },
  {
   "cell_type": "code",
   "execution_count": 135,
   "metadata": {},
   "outputs": [
    {
     "data": {
      "text/plain": [
       "{'COVID': 0, 'NORMAL': 1}"
      ]
     },
     "execution_count": 135,
     "metadata": {},
     "output_type": "execute_result"
    }
   ],
   "source": [
    "class_names_label_kaggle_radiography"
   ]
  },
  {
   "cell_type": "code",
   "execution_count": 136,
   "metadata": {},
   "outputs": [
    {
     "data": {
      "text/plain": [
       "['NORMAL', 'PNEUMONIA']"
      ]
     },
     "execution_count": 136,
     "metadata": {},
     "output_type": "execute_result"
    }
   ],
   "source": [
    "os.listdir(path2)"
   ]
  },
  {
   "cell_type": "code",
   "execution_count": 137,
   "metadata": {},
   "outputs": [
    {
     "data": {
      "text/plain": [
       "['COVID', 'NORMAL']"
      ]
     },
     "execution_count": 137,
     "metadata": {},
     "output_type": "execute_result"
    }
   ],
   "source": [
    "os.listdir(path3)"
   ]
  },
  {
   "cell_type": "code",
   "execution_count": null,
   "metadata": {},
   "outputs": [],
   "source": [
    "# Making label for kaggle dataset\n",
    "images1 = []\n",
    "labels1 = []\n",
    "print(\"Loading {}\".format(path2))\n",
    "for folder in os.listdir(path2):\n",
    "    label = class_names_label[folder]\n",
    "    print(folder)\n",
    "    for file in tqdm(os.listdir(os.path.join(path2, folder))):\n",
    "        img_path = os.path.join(os.path.join(path2, folder), file)\n",
    "        image = cv2.imread(img_path)\n",
    "        image = cv2.cvtColor(image, cv2.COLOR_BGR2RGB)\n",
    "        image = cv2.resize(image, (128, 128))\n",
    "        images1.append(image)\n",
    "        labels1.append(label)\n",
    "images1 = np.array(images1)\n",
    "labels1 = np.array(labels1)"
   ]
  },
  {
   "cell_type": "code",
   "execution_count": null,
   "metadata": {},
   "outputs": [],
   "source": [
    "# Making label for kaggle radiography dataset\n",
    "images2 = []\n",
    "labels2 = []\n",
    "print(\"Loading {}\".format(path3))\n",
    "for folder in os.listdir(path3):\n",
    "    label = class_names_label_kaggle_radiography[folder]\n",
    "    print(folder)\n",
    "    for file in tqdm(os.listdir(os.path.join(path3, folder))):\n",
    "        img_path = os.path.join(os.path.join(path3, folder), file)\n",
    "        image = cv2.imread(img_path)\n",
    "        image = cv2.cvtColor(image, cv2.COLOR_BGR2RGB)\n",
    "        image = cv2.resize(image, (128, 128))\n",
    "        images2.append(image)\n",
    "        labels2.append(label)\n",
    "images2 = np.array(images2)\n",
    "labels2 = np.array(labels2)"
   ]
  },
  {
   "cell_type": "code",
   "execution_count": 140,
   "metadata": {},
   "outputs": [],
   "source": [
    "## Adding label for kaggle dataset cause kaggle just do binary classification, meanwhile\n",
    "## we want to have multiclass classification of 3, so we add 1\n",
    "for i in range(len(labels1)):\n",
    "  labels1[i] = labels1[i] + 1"
   ]
  },
  {
   "cell_type": "code",
   "execution_count": 141,
   "metadata": {},
   "outputs": [
    {
     "data": {
      "text/plain": [
       "array([1, 1, 1, ..., 2, 2, 2])"
      ]
     },
     "execution_count": 141,
     "metadata": {},
     "output_type": "execute_result"
    }
   ],
   "source": [
    "labels1"
   ]
  },
  {
   "cell_type": "code",
   "execution_count": 142,
   "metadata": {},
   "outputs": [
    {
     "data": {
      "text/plain": [
       "array([0, 0, 0, ..., 1, 1, 1])"
      ]
     },
     "execution_count": 142,
     "metadata": {},
     "output_type": "execute_result"
    }
   ],
   "source": [
    "labels2"
   ]
  },
  {
   "cell_type": "code",
   "execution_count": 143,
   "metadata": {},
   "outputs": [],
   "source": [
    "# Actuamed Dataset\n",
    "source = np.asarray(pd.read_csv(path + '\\\\metadata.csv'))"
   ]
  },
  {
   "cell_type": "code",
   "execution_count": null,
   "metadata": {},
   "outputs": [],
   "source": [
    "## Dataframe Actuamed\n",
    "df = pd.DataFrame(source, columns=['patientid',\t'offset', 'sex',\t'age',\t'finding',\t\n",
    "                                   'survival',\t'temperature',\t'pO2 saturation',\t'view',\t\n",
    "                                   'modality',\t'imagename','artifacts distortion',\t'notes'])\n",
    "df"
   ]
  },
  {
   "cell_type": "code",
   "execution_count": 146,
   "metadata": {},
   "outputs": [],
   "source": [
    "## Actuamed\n",
    "data = []\n",
    "labels = []\n",
    "for i in source:\n",
    "  img = cv2.imread(path +'\\\\images\\\\'+ i[10])\n",
    "  img = cv2.resize(img, (128, 128))\n",
    "  img = cv2.cvtColor(img, cv2.COLOR_BGR2RGB)\n",
    "  label = i[4]\n",
    "  data.append(img)\n",
    "  labels.append(label)\n",
    "data = np.array(data)\n",
    "label = np.array(labels)"
   ]
  },
  {
   "cell_type": "code",
   "execution_count": 147,
   "metadata": {},
   "outputs": [],
   "source": [
    "## Cek buat dataset actuamed, kalo datanya bersifat Nan artinya pneumonia\n",
    "a = ['COVID-19', 'No finding']\n",
    "for i in range(len(labels)): \n",
    "  if labels[i] not in a:\n",
    "    labels[i] = 'pneumonia'"
   ]
  },
  {
   "cell_type": "code",
   "execution_count": 148,
   "metadata": {},
   "outputs": [],
   "source": [
    "## Encoder label for actualmed\n",
    "le.fit(labels)\n",
    "labels = le.transform(labels)"
   ]
  },
  {
   "cell_type": "code",
   "execution_count": 149,
   "metadata": {},
   "outputs": [],
   "source": [
    "## Combine the dataset (Actuamed & Python)\n",
    "new_label = np.concatenate((labels, labels1, labels2), axis=0)\n",
    "new_data = np.concatenate((data, images1, images2), axis=0)"
   ]
  },
  {
   "cell_type": "code",
   "execution_count": 150,
   "metadata": {},
   "outputs": [],
   "source": [
    "# dibagi 255 untuk normalisasi\n",
    "new_data = new_data/255."
   ]
  },
  {
   "cell_type": "code",
   "execution_count": 151,
   "metadata": {},
   "outputs": [
    {
     "data": {
      "text/plain": [
       "array([2, 2, 1, ..., 1, 1, 1])"
      ]
     },
     "execution_count": 151,
     "metadata": {},
     "output_type": "execute_result"
    }
   ],
   "source": [
    "new_label"
   ]
  },
  {
   "cell_type": "code",
   "execution_count": 152,
   "metadata": {},
   "outputs": [
    {
     "data": {
      "text/plain": [
       "(12070, 128, 128, 3)"
      ]
     },
     "execution_count": 152,
     "metadata": {},
     "output_type": "execute_result"
    }
   ],
   "source": [
    "new_data.shape"
   ]
  },
  {
   "cell_type": "code",
   "execution_count": 154,
   "metadata": {},
   "outputs": [],
   "source": [
    "new_data = new_data.reshape(len(new_data), 128,128, 3)"
   ]
  },
  {
   "cell_type": "code",
   "execution_count": 155,
   "metadata": {},
   "outputs": [
    {
     "data": {
      "text/plain": [
       "<matplotlib.image.AxesImage at 0x148109fba00>"
      ]
     },
     "execution_count": 155,
     "metadata": {},
     "output_type": "execute_result"
    },
    {
     "data": {
      "image/png": "[encoded data removed]",
      "text/plain": [
       "<Figure size 432x288 with 1 Axes>"
      ]
     },
     "metadata": {
      "needs_background": "light"
     },
     "output_type": "display_data"
    }
   ],
   "source": [
    "plt.imshow(new_data[15], cmap = 'gray')"
   ]
  },
  {
   "cell_type": "code",
   "execution_count": 156,
   "metadata": {},
   "outputs": [],
   "source": [
    "data = data.reshape(len(data), 128, 128, 3)"
   ]
  },
  {
   "cell_type": "code",
   "execution_count": 157,
   "metadata": {},
   "outputs": [
    {
     "name": "stdout",
     "output_type": "stream",
     "text": [
      "3674\n",
      "4070\n",
      "4326\n"
     ]
    }
   ],
   "source": [
    "# Check how many data each of the class feature \n",
    "# 0 -> covid\n",
    "# 1 -> normal\n",
    "# 2 -> pneumonia\n",
    "print(len(np.where(new_label == 0)[0]))\n",
    "print(len(np.where(new_label == 1)[0]))\n",
    "print(len(np.where(new_label == 2)[0]))"
   ]
  },
  {
   "cell_type": "code",
   "execution_count": 159,
   "metadata": {},
   "outputs": [],
   "source": [
    "# Model VGG-19\n",
    "model = Sequential()\n",
    "model.add(Input(shape=(128,128,3)))\n",
    "model.add(Conv2D(filters=64,kernel_size=(3,3),padding=\"same\", activation=\"relu\"))\n",
    "model.add(Conv2D(filters=64,kernel_size=(3,3),padding=\"same\", activation=\"relu\"))\n",
    "model.add(MaxPool2D(pool_size=(2,2),strides=(2,2)))\n",
    "model.add(Conv2D(filters=128, kernel_size=(3,3), padding=\"same\", activation=\"relu\"))\n",
    "model.add(Conv2D(filters=128, kernel_size=(3,3), padding=\"same\", activation=\"relu\"))\n",
    "model.add(MaxPool2D(pool_size=(2,2),strides=(2,2)))\n",
    "model.add(Conv2D(filters=256, kernel_size=(3,3), padding=\"same\", activation=\"relu\"))\n",
    "model.add(Conv2D(filters=256, kernel_size=(3,3), padding=\"same\", activation=\"relu\"))\n",
    "model.add(Conv2D(filters=256, kernel_size=(3,3), padding=\"same\", activation=\"relu\"))\n",
    "model.add(Conv2D(filters=256, kernel_size=(3,3), padding=\"same\", activation=\"relu\"))\n",
    "model.add(MaxPool2D(pool_size=(2,2),strides=(2,2)))\n",
    "model.add(Conv2D(filters=512, kernel_size=(3,3), padding=\"same\", activation=\"relu\"))\n",
    "model.add(Conv2D(filters=512, kernel_size=(3,3), padding=\"same\", activation=\"relu\"))\n",
    "model.add(Conv2D(filters=512, kernel_size=(3,3), padding=\"same\", activation=\"relu\"))\n",
    "model.add(Conv2D(filters=512, kernel_size=(3,3), padding=\"same\", activation=\"relu\"))\n",
    "model.add(MaxPool2D(pool_size=(2,2),strides=(2,2)))\n",
    "model.add(Conv2D(filters=512, kernel_size=(3,3), padding=\"same\", activation=\"relu\"))\n",
    "model.add(Conv2D(filters=512, kernel_size=(3,3), padding=\"same\", activation=\"relu\"))\n",
    "model.add(Conv2D(filters=512, kernel_size=(3,3), padding=\"same\", activation=\"relu\"))\n",
    "model.add(Conv2D(filters=512, kernel_size=(3,3), padding=\"same\", activation=\"relu\"))\n",
    "model.add(MaxPool2D(pool_size=(2,2),strides=(2,2)))\n",
    "model.add(Flatten())\n",
    "model.add(Dense(units=4096,activation=\"relu\"))\n",
    "model.add(Dense(units=4096,activation=\"relu\"))\n",
    "model.add(Dense(units=3, activation=\"softmax\"))"
   ]
  },
  {
   "cell_type": "code",
   "execution_count": null,
   "metadata": {},
   "outputs": [],
   "source": [
    "model.summary()"
   ]
  },
  {
   "cell_type": "code",
   "execution_count": 161,
   "metadata": {},
   "outputs": [],
   "source": [
    "new_label = tf.keras.utils.to_categorical(new_label, num_classes=3)"
   ]
  },
  {
   "cell_type": "code",
   "execution_count": 162,
   "metadata": {},
   "outputs": [],
   "source": [
    "x_train, x_test, y_train, y_test = train_test_split(new_data, new_label, test_size=0.2, random_state=1)"
   ]
  },
  {
   "cell_type": "code",
   "execution_count": null,
   "metadata": {},
   "outputs": [],
   "source": [
    "model.compile(optimizer='adam', loss='categorical_crossentropy', metrics=['accuracy'])\n",
    "history = model.fit(x_train, y_train, validation_data=(x_test, y_test), epochs=50)"
   ]
  },
  {
   "cell_type": "code",
   "execution_count": null,
   "metadata": {},
   "outputs": [],
   "source": [
    "model.evaluate(x_test,y_test)"
   ]
  },
  {
   "cell_type": "code",
   "execution_count": null,
   "metadata": {},
   "outputs": [],
   "source": [
    "# Print the accuracy of the model\n",
    "print(classification_report(np.argmax(new_label, axis=-1), np.argmax(model.predict(new_data), axis=-1)))"
   ]
  },
  {
   "cell_type": "code",
   "execution_count": 162,
   "metadata": {},
   "outputs": [],
   "source": [
    "test = data[1].reshape(1, 128, 128, 3)"
   ]
  },
  {
   "cell_type": "code",
   "execution_count": null,
   "metadata": {},
   "outputs": [],
   "source": [
    "model.predict(test)"
   ]
  },
  {
   "cell_type": "code",
   "execution_count": null,
   "metadata": {},
   "outputs": [],
   "source": [
    "np.argmax(model.predict(test), axis=-1)"
   ]
  },
  {
   "cell_type": "code",
   "execution_count": 165,
   "metadata": {},
   "outputs": [],
   "source": [
    "## Save deep learning model\n",
    "model.save(\"cxr_model2.h5\")"
   ]
  },
  {
   "cell_type": "code",
   "execution_count": 166,
   "metadata": {},
   "outputs": [],
   "source": [
    "## Load the model\n",
    "# loaded_model = load_model(\"cxr_model.h5\")\n",
    "\n",
    "## Load the model\n",
    "# loaded_model = load_model(\"cxr_model1.h5\")\n",
    "\n",
    "## Load the model\n",
    "loaded_model = load_model(\"cxr_model2.h5\")"
   ]
  },
  {
   "cell_type": "code",
   "execution_count": null,
   "metadata": {},
   "outputs": [],
   "source": [
    "loaded_model.summary()"
   ]
  },
  {
   "cell_type": "code",
   "execution_count": null,
   "metadata": {},
   "outputs": [],
   "source": [
    "## Test the loaded model again\n",
    "loaded_model.evaluate(x_test,y_test)"
   ]
  },
  {
   "cell_type": "code",
   "execution_count": 33,
   "metadata": {},
   "outputs": [],
   "source": [
    "class_label = [\"Covid-19\", \"No Finding\", \"Pneumonia\"]"
   ]
  },
  {
   "cell_type": "code",
   "execution_count": null,
   "metadata": {},
   "outputs": [],
   "source": [
    "## For Predict the Image\n",
    "%matplotlib inline\n",
    "from google.colab import file\n",
    " \n",
    "uploaded = file.upload()\n",
    " \n",
    "for fn in uploaded.keys():\n",
    "\n",
    "  path = fn\n",
    "  img = cv2.imread(path)\n",
    "  img = cv2.cvtColor(img, cv2.COLOR_BGR2RGB)\n",
    "  img = cv2.resize(img, (128, 128))\n",
    "\n",
    "img = img.reshape(1, 128, 128, 3)\n",
    "\n",
    "print(fn)\n",
    "\n",
    "plt.imshow(img.reshape(128,128,3))\n",
    "plt.xticks([])\n",
    "plt.yticks([])\n",
    "plt.grid(False)\n",
    "plt.title(class_label[np.argmax(model.predict(img))])\n",
    "plt.show()"
   ]
  }
 ],
 "metadata": {
  "interpreter": {
   "hash": "a71e8793c594be1bbbf11c8ae89370a79d3b2606fd0f96fd861ab46e94009a21"
  },
  "kernelspec": {
   "display_name": "Python 3.9.5 64-bit",
   "language": "python",
   "name": "python3"
  },
  "language_info": {
   "codemirror_mode": {
    "name": "ipython",
    "version": 3
   },
   "file_extension": ".py",
   "mimetype": "text/x-python",
   "name": "python",
   "nbconvert_exporter": "python",
   "pygments_lexer": "ipython3",
   "version": "3.10.4"
  },
  "orig_nbformat": 4
 },
 "nbformat": 4,
 "nbformat_minor": 2
}
